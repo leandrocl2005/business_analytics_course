{
 "cells": [
  {
   "cell_type": "markdown",
   "id": "83b1b531-2e05-43d7-a0ad-bf3d51a467df",
   "metadata": {},
   "source": [
    "# Python para WEB\n",
    "\n",
    "Nas aulas passadas vimos HTML, CSS e JS. Vimos que não era possível persistir dados de maneira confiável e segura sem usar um banco de dados. Para conectar o banco de dados com as páginas feitas em HTML, CSS e JS, na aula passada vimos o Django, um poderoso framework web escrito em Python.\n",
    "\n",
    "Chegamos ao final do nosso curso, mas você já tem tudo que precisamos. Essa aula é apenas uma aula prática apresentando como tudo se conecta para entregas de dashboards relacionados a Business e analytics.\n",
    "\n",
    "Faremos um dashboard web para o conjunto de dados Titanic. Primeiro persistiremos os dados em um arquivo .csv e, por fim, no banco de dados."
   ]
  },
  {
   "cell_type": "markdown",
   "id": "223fe311-5c6c-4853-b478-7b1cd1c931d4",
   "metadata": {},
   "source": [
    "Assita as aulas completas aqui:   <a href=\"https://www.youtube.com/playlist?list=PLio7FrSyKhfCILRx9h3-M72Kdc7SiI-g3\">Titanic Dashboard com Django</a>"
   ]
  },
  {
   "cell_type": "markdown",
   "id": "1351f8d2-a4b2-4a15-a0ae-0b748be72dbe",
   "metadata": {},
   "source": [
    "### Exercício:"
   ]
  },
  {
   "cell_type": "markdown",
   "id": "b6273745-2980-4e1a-bbbe-55099c04e1dc",
   "metadata": {},
   "source": [
    "1) Use os conceitos aprendidos sobre Django e faça um aplicativo de lista de tarefas que persista os dados num banco de dados. Use o template da aula passada."
   ]
  },
  {
   "cell_type": "markdown",
   "id": "2d07aef0",
   "metadata": {},
   "source": [
    "## Entregáveis\n",
    "\n",
    "- Você deve entrar o repositório do projeto de lista de tarefas com Django."
   ]
  },
  {
   "cell_type": "markdown",
   "id": "c9e1df56",
   "metadata": {},
   "source": []
  }
 ],
 "metadata": {
  "kernelspec": {
   "display_name": "Python 3 (ipykernel)",
   "language": "python",
   "name": "python3"
  },
  "language_info": {
   "codemirror_mode": {
    "name": "ipython",
    "version": 3
   },
   "file_extension": ".py",
   "mimetype": "text/x-python",
   "name": "python",
   "nbconvert_exporter": "python",
   "pygments_lexer": "ipython3",
   "version": "3.9.12"
  }
 },
 "nbformat": 4,
 "nbformat_minor": 5
}
