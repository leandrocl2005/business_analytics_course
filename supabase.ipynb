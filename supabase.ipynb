{
 "cells": [
  {
   "cell_type": "code",
   "execution_count": 1,
   "id": "2f7fc4a9-a780-47ab-acaf-4dc9c3370561",
   "metadata": {},
   "outputs": [],
   "source": [
    "# !pip install supabase"
   ]
  },
  {
   "cell_type": "code",
   "execution_count": null,
   "id": "d59384d3-eae9-4d26-8f9f-7dc476df690b",
   "metadata": {},
   "outputs": [],
   "source": [
    "from supabase import create_client, Client\n",
    "from dotenv import load_dotenv\n",
    "load_dotenv(override=True)\n",
    "import os\n",
    "\n",
    "url: str = os.getenv(\"SUPABASE_URL\", \"\")\n",
    "\n",
    "key: str = os.getenv(\"SUPABASE_KEY\", \"\")\n",
    "\n",
    "supabase: Client = create_client(url, key)"
   ]
  },
  {
   "cell_type": "code",
   "execution_count": 2,
   "id": "2e7bf911-669b-4eb9-99a4-1c9398dc79f9",
   "metadata": {},
   "outputs": [
    {
     "data": {
      "text/plain": [
       "'\\ncreate table if not exists carros (\\n    id serial primary key,\\n    placa text not null,\\n    modelo text not null,\\n    cor text not null,\\n    hora_entrada timestamp not null,\\n    hora_saida timestamp\\n);\\n'"
      ]
     },
     "execution_count": 2,
     "metadata": {},
     "output_type": "execute_result"
    }
   ],
   "source": [
    "# Direto pelo SQL do SUPABASE\n",
    "\n",
    "\"\"\"\n",
    "create table if not exists carros (\n",
    "    id serial primary key,\n",
    "    placa text not null,\n",
    "    modelo text not null,\n",
    "    cor text not null,\n",
    "    hora_entrada timestamp not null,\n",
    "    hora_saida timestamp\n",
    ");\n",
    "\"\"\""
   ]
  },
  {
   "cell_type": "code",
   "execution_count": null,
   "id": "e86b8dac-a480-433c-93bf-de54f1e9d32e",
   "metadata": {},
   "outputs": [],
   "source": [
    "from datetime import datetime\n",
    "\n",
    "dados_carros = [\n",
    "    {\n",
    "        \"placa\": \"ABC1234\",\n",
    "        \"modelo\": \"Fiat Uno\",\n",
    "        \"cor\": \"Vermelho\",\n",
    "        \"hora_entrada\": datetime(2025, 6, 3, 8, 30).isoformat(),\n",
    "        \"hora_saida\": None\n",
    "    },\n",
    "    {\n",
    "        \"placa\": \"XYZ9876\",\n",
    "        \"modelo\": \"Toyota Corolla\",\n",
    "        \"cor\": \"Preto\",\n",
    "        \"hora_entrada\": datetime(2025, 6, 3, 9, 15).isoformat(),\n",
    "        \"hora_saida\": datetime(2025, 6, 3, 12, 45).isoformat()\n",
    "    }\n",
    "]\n",
    "\n",
    "# Inserir os dados\n",
    "response = supabase.table(\"carros\").insert(dados_carros).execute()\n",
    "\n",
    "# Ver resposta da API\n",
    "print(response)"
   ]
  },
  {
   "cell_type": "code",
   "execution_count": 3,
   "id": "c2cdd0e5",
   "metadata": {},
   "outputs": [
    {
     "name": "stdout",
     "output_type": "stream",
     "text": [
      "data=[{'id': 1, 'placa': 'ABC1234', 'modelo': 'Fiat Uno', 'cor': 'Vermelho', 'hora_entrada': '2025-06-03T08:30:00', 'hora_saida': None}, {'id': 2, 'placa': 'XYZ9876', 'modelo': 'Toyota Corolla', 'cor': 'Preto', 'hora_entrada': '2025-06-03T09:15:00', 'hora_saida': '2025-06-03T12:45:00'}] count=None\n"
     ]
    }
   ],
   "source": [
    "# Ler os dados inseridos\n",
    "response = supabase.table(\"carros\").select(\"*\").execute()\n",
    "# Ver resposta da API\n",
    "print(response)"
   ]
  },
  {
   "cell_type": "code",
   "execution_count": null,
   "id": "402c6db2",
   "metadata": {},
   "outputs": [],
   "source": []
  }
 ],
 "metadata": {
  "kernelspec": {
   "display_name": "env",
   "language": "python",
   "name": "python3"
  },
  "language_info": {
   "codemirror_mode": {
    "name": "ipython",
    "version": 3
   },
   "file_extension": ".py",
   "mimetype": "text/x-python",
   "name": "python",
   "nbconvert_exporter": "python",
   "pygments_lexer": "ipython3",
   "version": "3.9.12"
  }
 },
 "nbformat": 4,
 "nbformat_minor": 5
}
