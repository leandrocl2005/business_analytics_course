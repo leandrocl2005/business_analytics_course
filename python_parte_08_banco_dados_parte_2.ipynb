{
 "cells": [
  {
   "cell_type": "markdown",
   "id": "146c057a",
   "metadata": {},
   "source": [
    "# Banco de dados"
   ]
  },
  {
   "cell_type": "markdown",
   "id": "80c3a82c-7468-4211-a348-38dcda3e8225",
   "metadata": {},
   "source": [
    "No notebook passado aprendemos a trabalhar com o banco de dados SQLite3 muito utilizado para testes. Neste notebook trabalharemos com outros bancos de dados. Seu trabalho ao final dessa aula será fazer um CRUD em um banco de dados diferente do que veremos nessa aula e diferente do que vimos da aula passada. As sugestões de bancos de dados para essa tarefa se encontram no final do notebook. Seguiremos com o exemplo dessa aula que deve ser replicado para sua escolha."
   ]
  },
  {
   "cell_type": "markdown",
   "id": "e8637f12",
   "metadata": {},
   "source": [
    "## Escolha do banco"
   ]
  },
  {
   "cell_type": "markdown",
   "id": "b35845a0",
   "metadata": {},
   "source": [
    "- O banco escolhido foi o POSTGRESQL\n",
    "- Sistema operacional Windows\n",
    "- Versão escolhida 17.5\n",
    "- Download do instalador POSTGRESQL em https://www.postgresql.org/download/windows/\n",
    "- Programa para conexão opcional Dbeaver Community \n",
    "- Download do instalador Dbeaver Community em https://dbeaver.io/download/"
   ]
  },
  {
   "cell_type": "markdown",
   "id": "5df92d4b",
   "metadata": {},
   "source": [
    "## Biblioteca escolhida para conexão"
   ]
  },
  {
   "cell_type": "code",
   "execution_count": null,
   "id": "5e808df9",
   "metadata": {},
   "outputs": [],
   "source": [
    "# Instalação\n",
    "# !pip install pg8000"
   ]
  },
  {
   "cell_type": "code",
   "execution_count": 1,
   "id": "ffc95775",
   "metadata": {},
   "outputs": [],
   "source": [
    "# importação\n",
    "import pg8000.native"
   ]
  },
  {
   "cell_type": "markdown",
   "id": "598e30e2",
   "metadata": {},
   "source": [
    "## CONNECTION"
   ]
  },
  {
   "cell_type": "markdown",
   "id": "e8bc4de0",
   "metadata": {},
   "source": [
    "### Com Dbeaver"
   ]
  },
  {
   "cell_type": "markdown",
   "id": "adea8aa2",
   "metadata": {},
   "source": [
    "<img src=\"assets/dbeaver.png\" width=\"400px\" height=\"300px\">"
   ]
  },
  {
   "cell_type": "code",
   "execution_count": 3,
   "id": "eb446b8c",
   "metadata": {},
   "outputs": [],
   "source": [
    "# criaremos a conexão com nosso banco de dados\n",
    "DB_HOST = \"127.0.0.1\" # Endereço do servidor de banco de dados\n",
    "DB_NAME = \"postgres\" # Nome do banco de dados\n",
    "DB_USER = \"postgres\" # Usuário do banco de dados\n",
    "DB_PASSWORD = \"1234\" # Senha do banco de dados\n",
    "DB_PORT = 5432 # Porta do banco de dados"
   ]
  },
  {
   "cell_type": "code",
   "execution_count": null,
   "id": "70dfa733",
   "metadata": {},
   "outputs": [
    {
     "name": "stdout",
     "output_type": "stream",
     "text": [
      "Tudo certo!\n"
     ]
    }
   ],
   "source": [
    "try:\n",
    "    # Conectando ao banco de dados\n",
    "    conn = pg8000.native.Connection(\n",
    "        host=DB_HOST,\n",
    "        database=DB_NAME,\n",
    "        user=DB_USER,\n",
    "        password=DB_PASSWORD,\n",
    "        port=DB_PORT\n",
    "    )\n",
    "    print(\"Tudo certo!\")\n",
    "except Exception as e:\n",
    "    print(\"Erro:\", e)\n",
    "finally:\n",
    "    if conn:\n",
    "        conn.close()"
   ]
  },
  {
   "cell_type": "markdown",
   "id": "d4590ba8",
   "metadata": {},
   "source": [
    "# CREATE TABLE"
   ]
  },
  {
   "cell_type": "code",
   "execution_count": null,
   "id": "26f36036",
   "metadata": {},
   "outputs": [],
   "source": [
    "# Podemos agora criar tabelas \n",
    "# alguns bancos como o MongoDB não possuem o conceito de tabelas, mas sim coleções\n",
    "# criaremos a tabela (table) cars com campos (fields) id, brand, model e year\n",
    "# observe que a sintaxe é similar ao SQLite3 mas não é idêntica\n",
    "# VARCHAR é usado para strings de tamanho variável, INT para inteiros\n",
    "conn = pg8000.native.Connection(\n",
    "    host=DB_HOST,\n",
    "    database=DB_NAME,\n",
    "    user=DB_USER,\n",
    "    password=DB_PASSWORD,\n",
    "    port=DB_PORT\n",
    ")\n",
    "conn.run(\"\"\"\n",
    "    CREATE TABLE cars (\n",
    "        brand VARCHAR(255),\n",
    "        model VARCHAR(255),\n",
    "        year INT\n",
    "    );  \n",
    "\"\"\")\n",
    "conn.close()"
   ]
  },
  {
   "cell_type": "markdown",
   "id": "481bef1e",
   "metadata": {},
   "source": [
    "Podemos conferir se a tabela foi realmente criada pelo Dbeaver."
   ]
  },
  {
   "cell_type": "markdown",
   "id": "2555800b",
   "metadata": {},
   "source": [
    "<img src='assets/postgres_table_cars.png' width=\"300px\" height=\"200px\">"
   ]
  },
  {
   "cell_type": "markdown",
   "id": "a918a183",
   "metadata": {},
   "source": [
    "##  CREATE ROW"
   ]
  },
  {
   "cell_type": "code",
   "execution_count": null,
   "id": "1c08b3aa",
   "metadata": {},
   "outputs": [],
   "source": [
    "# criaremos agora um registro (row) na tabela cars\n",
    "# Novamente a nomencratura pode variar de banco para banco\n",
    "conn = pg8000.native.Connection(\n",
    "    host=DB_HOST,\n",
    "    database=DB_NAME,\n",
    "    user=DB_USER,\n",
    "    password=DB_PASSWORD,\n",
    "    port=DB_PORT\n",
    ")\n",
    "conn.run(\"\"\"\n",
    "    INSERT INTO cars (brand, model, year)\n",
    "    VALUES ('Ford', 'Mustang', 1964);\n",
    "\"\"\")\n",
    "conn.close()"
   ]
  },
  {
   "cell_type": "code",
   "execution_count": 9,
   "id": "7fe4f199",
   "metadata": {},
   "outputs": [],
   "source": [
    "# criaremos agora um segundo registro (row) na tabela cars\n",
    "# Novamente a nomencratura pode variar de banco para banco\n",
    "conn = pg8000.native.Connection(\n",
    "    host=DB_HOST,\n",
    "    database=DB_NAME,\n",
    "    user=DB_USER,\n",
    "    password=DB_PASSWORD,\n",
    "    port=DB_PORT\n",
    ")\n",
    "conn.run(\"\"\"\n",
    "    INSERT INTO cars (brand, model, year)\n",
    "    VALUES ('Fiat', 'Uno', 1989);\n",
    "\"\"\")\n",
    "conn.close()"
   ]
  },
  {
   "cell_type": "markdown",
   "id": "86ddb522",
   "metadata": {},
   "source": [
    "## READ ALL ROWS"
   ]
  },
  {
   "cell_type": "code",
   "execution_count": 10,
   "id": "d27250a6",
   "metadata": {},
   "outputs": [
    {
     "name": "stdout",
     "output_type": "stream",
     "text": [
      "['Ford', 'Mustang', 1964]\n",
      "['Fiat', 'Uno', 1989]\n"
     ]
    }
   ],
   "source": [
    "# criaremos agora um registro (row) na tabela tasks\n",
    "# Novamente a nomencratura pode variar de banco para banco\n",
    "conn = pg8000.native.Connection(\n",
    "    host=DB_HOST,\n",
    "    database=DB_NAME,\n",
    "    user=DB_USER,\n",
    "    password=DB_PASSWORD,\n",
    "    port=DB_PORT\n",
    ")\n",
    "results = conn.run(\"\"\"\n",
    "    SELECT * FROM cars;\n",
    "\"\"\")\n",
    "for result in results:\n",
    "    print(result)\n",
    "conn.close()"
   ]
  },
  {
   "cell_type": "markdown",
   "id": "c7ef76ae",
   "metadata": {},
   "source": [
    "# READ WITH FILTER"
   ]
  },
  {
   "cell_type": "code",
   "execution_count": 11,
   "id": "741cfebc",
   "metadata": {},
   "outputs": [
    {
     "name": "stdout",
     "output_type": "stream",
     "text": [
      "['Uno', 1989]\n"
     ]
    }
   ],
   "source": [
    "conn = pg8000.native.Connection(\n",
    "    host=DB_HOST,\n",
    "    database=DB_NAME,\n",
    "    user=DB_USER,\n",
    "    password=DB_PASSWORD,\n",
    "    port=DB_PORT\n",
    ")\n",
    "results = conn.run(\"\"\"\n",
    "    SELECT model, year \n",
    "    FROM cars\n",
    "    WHERE year > 1980;\n",
    "\"\"\")\n",
    "for result in results:\n",
    "    print(result)\n",
    "conn.close()"
   ]
  },
  {
   "cell_type": "markdown",
   "id": "c07ab10e",
   "metadata": {},
   "source": [
    "# UPDATE"
   ]
  },
  {
   "cell_type": "code",
   "execution_count": 12,
   "id": "b1a55e4c",
   "metadata": {},
   "outputs": [
    {
     "name": "stdout",
     "output_type": "stream",
     "text": [
      "['Ford', 'Mustang', 1964]\n",
      "['Fiat', 'Uno', 1980]\n"
     ]
    }
   ],
   "source": [
    "# Atualizar (update) na tabela tasks as linhas (rows) cujo model = UNO\n",
    "# fazendo (SET) year = 1980\n",
    "conn = pg8000.native.Connection(\n",
    "    host=DB_HOST,\n",
    "    database=DB_NAME,\n",
    "    user=DB_USER,\n",
    "    password=DB_PASSWORD,\n",
    "    port=DB_PORT\n",
    ")\n",
    "conn.run(\"\"\"\n",
    "    UPDATE cars\n",
    "    SET year = 1980\n",
    "    WHERE model = 'Uno';\n",
    "\"\"\")\n",
    "results = conn.run(\"\"\"\n",
    "    SELECT * FROM cars;\n",
    "\"\"\")\n",
    "for result in results:\n",
    "    print(result)\n",
    "conn.close()"
   ]
  },
  {
   "cell_type": "markdown",
   "id": "d4a8d8e2",
   "metadata": {},
   "source": [
    "# DELETE"
   ]
  },
  {
   "cell_type": "code",
   "execution_count": 13,
   "id": "137a38de",
   "metadata": {},
   "outputs": [
    {
     "name": "stdout",
     "output_type": "stream",
     "text": [
      "['Ford', 'Mustang', 1964]\n"
     ]
    }
   ],
   "source": [
    "# deletar da (FROM) tabela tasks as linhas (rows) onde id = 1\n",
    "conn = pg8000.native.Connection(\n",
    "    host=DB_HOST,\n",
    "    database=DB_NAME,\n",
    "    user=DB_USER,\n",
    "    password=DB_PASSWORD,\n",
    "    port=DB_PORT\n",
    ")\n",
    "conn.run(\"\"\"\n",
    "    DELETE FROM cars\n",
    "    WHERE model = 'Uno';\n",
    "\"\"\")\n",
    "results = conn.run(\"\"\"\n",
    "    SELECT * FROM cars;\n",
    "\"\"\")\n",
    "for result in results:\n",
    "    print(result)\n",
    "conn.close()"
   ]
  },
  {
   "cell_type": "markdown",
   "id": "5f4a2d16",
   "metadata": {},
   "source": [
    "## Outras bibliotecas para conexão"
   ]
  },
  {
   "cell_type": "code",
   "execution_count": 11,
   "id": "e9e9ceb9",
   "metadata": {},
   "outputs": [],
   "source": [
    "# https://www.psycopg.org/docs/\n",
    "# pip install psycopg2"
   ]
  },
  {
   "cell_type": "code",
   "execution_count": 4,
   "id": "27903865",
   "metadata": {},
   "outputs": [
    {
     "name": "stdout",
     "output_type": "stream",
     "text": [
      "Tudo certo!\n"
     ]
    }
   ],
   "source": [
    "import psycopg2\n",
    "\n",
    "try:\n",
    "    # Conectando ao banco de dados\n",
    "    conn = psycopg2.connect(\n",
    "        f\"dbname={DB_NAME} user={DB_USER} port={DB_PORT} host={DB_HOST} password={DB_PASSWORD}\")\n",
    "    print(\"Tudo certo!\")\n",
    "except Exception as e:\n",
    "    print(\"Erro:\", e)\n",
    "finally:\n",
    "    if conn:\n",
    "        conn.close()"
   ]
  },
  {
   "cell_type": "markdown",
   "id": "c81eea74",
   "metadata": {},
   "source": [
    "## Exemplo usando Psycopg2"
   ]
  },
  {
   "cell_type": "code",
   "execution_count": 10,
   "id": "08d7f0d0",
   "metadata": {},
   "outputs": [
    {
     "name": "stdout",
     "output_type": "stream",
     "text": [
      "('Ford', 'Mustang', 1964)\n"
     ]
    }
   ],
   "source": [
    "import pandas as pd\n",
    "conn = psycopg2.connect(\n",
    "    f\"dbname={DB_NAME} user={DB_USER} port={DB_PORT} host={DB_HOST} password={DB_PASSWORD}\")\n",
    "cursor = conn.cursor()\n",
    "cursor.execute(\n",
    "    \"SELECT * FROM cars;\"\n",
    ")\n",
    "\n",
    "results = cursor.fetchall()\n",
    "for result in results:\n",
    "    print(result)\n",
    "conn.close()"
   ]
  },
  {
   "cell_type": "markdown",
   "id": "bf384a7e",
   "metadata": {},
   "source": [
    "## ORM"
   ]
  },
  {
   "cell_type": "markdown",
   "id": "11bc8f72",
   "metadata": {},
   "source": [
    "AS duas bibliotecas que vimos anteriormentes são específicas para conexões com bancos de dados Postgresql. Um ORM é uma bibliteca que pode se conexar com bancos de mais de um tipo e suas consultas (query) são feitas utilizando a linguagem Python. Veremos um exemplo."
   ]
  },
  {
   "cell_type": "code",
   "execution_count": 14,
   "id": "4d6b4a37",
   "metadata": {},
   "outputs": [
    {
     "name": "stdout",
     "output_type": "stream",
     "text": [
      "('Ford', 'Mustang', 1964)\n"
     ]
    }
   ],
   "source": [
    "from sqlalchemy import create_engine, MetaData, Table, select\n",
    "\n",
    "# Criando uma engine de conexão com o banco de dados PostgreSQL\n",
    "engine = create_engine(f\"postgresql+psycopg2://{DB_USER}:{DB_PASSWORD}@{DB_HOST}:{DB_PORT}/{DB_NAME}\")\n",
    "# Criando a conexão\n",
    "connection = engine.connect()\n",
    "# Instanciando o MetaData\n",
    "metadata = MetaData()\n",
    "# Carregando a tabela 'cars' do banco de dados\n",
    "cars = Table('cars', metadata, autoload_with=engine)\n",
    "# criando uma consulta para selecionar todos os registros da tabela 'cars'\n",
    "stmt = select(cars)\n",
    "# Executando a consulta e obtendo os resultados\n",
    "results = connection.execute(stmt)\n",
    "for result in results:\n",
    "    print(result)\n",
    "connection.close()"
   ]
  },
  {
   "cell_type": "markdown",
   "id": "923ebfab",
   "metadata": {},
   "source": [
    "Acima vemos que não foi preciso usar SQL para criar uma consulta, uma vez que a consulta foi feita usando métodos e objetos da linguagem Python disponíveis na biblioteca sqlachemy. Mesmo não sendo o objetivo de uma ORM, é possível executar consultas em SQL diretamente."
   ]
  },
  {
   "cell_type": "markdown",
   "id": "ec6eb862",
   "metadata": {},
   "source": []
  },
  {
   "cell_type": "code",
   "execution_count": 18,
   "id": "f304b033",
   "metadata": {},
   "outputs": [
    {
     "name": "stdout",
     "output_type": "stream",
     "text": [
      "('Ford', 'Mustang', 1964)\n"
     ]
    }
   ],
   "source": [
    "from sqlalchemy import create_engine, text\n",
    "from sqlalchemy.orm import sessionmaker\n",
    "\n",
    "# 1. Cria a engine\n",
    "engine = create_engine(f\"postgresql+psycopg2://{DB_USER}:{DB_PASSWORD}@{DB_HOST}:{DB_PORT}/{DB_NAME}\")\n",
    "\n",
    "# 2. Cria a session\n",
    "Session = sessionmaker(bind=engine)\n",
    "session = Session()\n",
    "\n",
    "# 3. Escreve a consulta SQL pura\n",
    "sql = text(\"SELECT * FROM cars;\")\n",
    "\n",
    "# 4. Executa a consulta e pega os resultados\n",
    "results = session.execute(sql)\n",
    "\n",
    "# 5. Itera sobre os registros\n",
    "for result in results:\n",
    "    print(result)  # transforma em dicionário para facilitar o uso\n",
    "\n",
    "# 6. Fecha a session\n",
    "session.close()"
   ]
  },
  {
   "cell_type": "markdown",
   "id": "42bba82f",
   "metadata": {},
   "source": [
    "## Qual biblioteca usar?"
   ]
  },
  {
   "cell_type": "markdown",
   "id": "ccc0145b",
   "metadata": {},
   "source": [
    "Você já sabe a resposta, depende do objetivo. Se há possibilidade de mudar o banco de dados, por exemplo de um POSTGRESQL para um MYSQL, uma ORM é indicado. Para desenvolvimento de aplicações web com Django o psycopg2 é indicado. "
   ]
  },
  {
   "cell_type": "markdown",
   "id": "547c4a02",
   "metadata": {},
   "source": [
    "## Integração com pandas"
   ]
  },
  {
   "cell_type": "markdown",
   "id": "a747df1a",
   "metadata": {},
   "source": [
    "Uma das vantagens do sqlalchemy é sua integração com a biblioteca pandas."
   ]
  },
  {
   "cell_type": "code",
   "execution_count": 21,
   "id": "06f0a5d2",
   "metadata": {},
   "outputs": [
    {
     "data": {
      "text/html": [
       "<div>\n",
       "<style scoped>\n",
       "    .dataframe tbody tr th:only-of-type {\n",
       "        vertical-align: middle;\n",
       "    }\n",
       "\n",
       "    .dataframe tbody tr th {\n",
       "        vertical-align: top;\n",
       "    }\n",
       "\n",
       "    .dataframe thead th {\n",
       "        text-align: right;\n",
       "    }\n",
       "</style>\n",
       "<table border=\"1\" class=\"dataframe\">\n",
       "  <thead>\n",
       "    <tr style=\"text-align: right;\">\n",
       "      <th></th>\n",
       "      <th>brand</th>\n",
       "      <th>model</th>\n",
       "      <th>year</th>\n",
       "    </tr>\n",
       "  </thead>\n",
       "  <tbody>\n",
       "    <tr>\n",
       "      <th>0</th>\n",
       "      <td>Ford</td>\n",
       "      <td>Mustang</td>\n",
       "      <td>1964</td>\n",
       "    </tr>\n",
       "  </tbody>\n",
       "</table>\n",
       "</div>"
      ],
      "text/plain": [
       "  brand    model  year\n",
       "0  Ford  Mustang  1964"
      ]
     },
     "execution_count": 21,
     "metadata": {},
     "output_type": "execute_result"
    }
   ],
   "source": [
    "import pandas as pd\n",
    "from sqlalchemy import create_engine\n",
    "\n",
    "# Criando uma engine de conexão com o banco de dados PostgreSQL\n",
    "engine = create_engine(f\"postgresql+psycopg2://{DB_USER}:{DB_PASSWORD}@{DB_HOST}:{DB_PORT}/{DB_NAME}\")\n",
    "\n",
    "# Consulta SQL\n",
    "query = \"SELECT * FROM cars\"\n",
    "\n",
    "# Lê os dados diretamente em um DataFrame\n",
    "df = pd.read_sql(query, engine)\n",
    "\n",
    "# Fechando a conexão com o banco de dados\n",
    "engine.dispose()\n",
    "\n",
    "# Mostra os dados\n",
    "df"
   ]
  },
  {
   "cell_type": "markdown",
   "id": "4d9e2c91",
   "metadata": {},
   "source": [
    "Também é possível integrar pandas sem usar queries em SQL, usando apenas a sintaxe da ORM."
   ]
  },
  {
   "cell_type": "code",
   "execution_count": 26,
   "id": "5582e94d",
   "metadata": {},
   "outputs": [
    {
     "data": {
      "text/html": [
       "<div>\n",
       "<style scoped>\n",
       "    .dataframe tbody tr th:only-of-type {\n",
       "        vertical-align: middle;\n",
       "    }\n",
       "\n",
       "    .dataframe tbody tr th {\n",
       "        vertical-align: top;\n",
       "    }\n",
       "\n",
       "    .dataframe thead th {\n",
       "        text-align: right;\n",
       "    }\n",
       "</style>\n",
       "<table border=\"1\" class=\"dataframe\">\n",
       "  <thead>\n",
       "    <tr style=\"text-align: right;\">\n",
       "      <th></th>\n",
       "      <th>brand</th>\n",
       "      <th>model</th>\n",
       "      <th>year</th>\n",
       "    </tr>\n",
       "  </thead>\n",
       "  <tbody>\n",
       "    <tr>\n",
       "      <th>0</th>\n",
       "      <td>Ford</td>\n",
       "      <td>Mustang</td>\n",
       "      <td>1964</td>\n",
       "    </tr>\n",
       "  </tbody>\n",
       "</table>\n",
       "</div>"
      ],
      "text/plain": [
       "  brand    model  year\n",
       "0  Ford  Mustang  1964"
      ]
     },
     "execution_count": 26,
     "metadata": {},
     "output_type": "execute_result"
    }
   ],
   "source": [
    "from sqlalchemy import select\n",
    "import pandas as pd\n",
    "\n",
    "from sqlalchemy import Table, MetaData\n",
    "\n",
    "metadata = MetaData()\n",
    "cars = Table(\"cars\", metadata, autoload_with=engine)\n",
    "\n",
    "stmt = select(cars)\n",
    "df = pd.read_sql(stmt, engine)\n",
    "df"
   ]
  },
  {
   "cell_type": "markdown",
   "id": "ce208781",
   "metadata": {},
   "source": [
    "## Exercício"
   ]
  },
  {
   "cell_type": "markdown",
   "id": "3d95831b",
   "metadata": {},
   "source": [
    "Agora é sua vez. Você deve fazer um tutorial parecido com esse explorando novas bibliotecas de conexão com novos bancos de dados. Seu tutorial deve ter no mínimo:\n",
    "\n",
    "- Conexão com o banco de dados\n",
    "- Criação de tabela\n",
    "- Criação de registros no banco de dados\n",
    "- Leitura de registros sem filtro\n",
    "- Leitura de registros com filtro\n",
    "- Atualização de registro\n",
    "- Deleção de registro\n",
    "- Integração com Pandas\n",
    "\n",
    "Algumas sugestões de bancos para utilizar:\n",
    "- Redis\n",
    "- MongoDB\n",
    "- Mysql\n",
    "- MariaDB"
   ]
  },
  {
   "cell_type": "markdown",
   "id": "db56b492",
   "metadata": {},
   "source": []
  }
 ],
 "metadata": {
  "kernelspec": {
   "display_name": "env",
   "language": "python",
   "name": "python3"
  },
  "language_info": {
   "codemirror_mode": {
    "name": "ipython",
    "version": 3
   },
   "file_extension": ".py",
   "mimetype": "text/x-python",
   "name": "python",
   "nbconvert_exporter": "python",
   "pygments_lexer": "ipython3",
   "version": "3.9.12"
  }
 },
 "nbformat": 4,
 "nbformat_minor": 5
}
