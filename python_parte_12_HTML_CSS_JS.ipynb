{
 "cells": [
  {
   "cell_type": "markdown",
   "id": "83b1b531-2e05-43d7-a0ad-bf3d51a467df",
   "metadata": {},
   "source": [
    "# HTML, CSS e JS\n",
    "\n",
    "Neste capítulo vamos aprender as tecnologias bases da programação WEB. "
   ]
  },
  {
   "cell_type": "markdown",
   "id": "223fe311-5c6c-4853-b478-7b1cd1c931d4",
   "metadata": {},
   "source": [
    "Assita uma aula completa sobre CSS, JS e HTML aqui:   <a href=\"https://www.youtube.com/watch?v=pf-TVjGNlfE\">Construindo seu portfólio web do ZERO</a>\n",
    "\n",
    "Códigos feitos em aula: https://github.com/leandrocl2005/leandro-portfolio"
   ]
  },
  {
   "cell_type": "markdown",
   "id": "1351f8d2-a4b2-4a15-a0ae-0b748be72dbe",
   "metadata": {},
   "source": [
    "### Exercícios HTML:"
   ]
  },
  {
   "cell_type": "markdown",
   "id": "b6273745-2980-4e1a-bbbe-55099c04e1dc",
   "metadata": {},
   "source": [
    "1) Use os conceitos aprendidos sobre HTML para replicar a estrutura de um e-commerce como o da imagem abaixo:"
   ]
  },
  {
   "cell_type": "markdown",
   "id": "0d2ff7a8-0706-450c-8d19-7b8f8fd74074",
   "metadata": {},
   "source": [
    "<img src=\"../assets/cabecalho_ecommerce.jpg\" width=\"400px\">"
   ]
  },
  {
   "cell_type": "markdown",
   "id": "11f8861c-2b78-4a8a-b422-4b13a72dbe5d",
   "metadata": {},
   "source": [
    "2) Faça o mesmo para criar uma seção de ofertas do dia como abaixo. Além disso, crie também no mesmo modelo uma seção de produtos em destaque."
   ]
  },
  {
   "cell_type": "markdown",
   "id": "b7d33d00-8ce2-4adf-bb46-1cfd9de4afab",
   "metadata": {},
   "source": [
    "<img src=\"../assets/secao_ofertas_ecommerce.jpg\" width=\"400px\">"
   ]
  },
  {
   "cell_type": "markdown",
   "id": "4c3948bd-d779-4ab5-854e-429402fca29a",
   "metadata": {},
   "source": [
    "3) Faça também uma seção com uma galeria de imagens ilustrando as categorias em destaque como na imagem abaixo."
   ]
  },
  {
   "cell_type": "markdown",
   "id": "6481c37e-3423-4949-b8c2-4bccf7e2c60e",
   "metadata": {},
   "source": [
    "<img src=\"../assets/secao_categorias_ecommerce.jpg\" width=\"400px\">"
   ]
  },
  {
   "cell_type": "markdown",
   "id": "7dbf1ea8-d69f-4399-8934-f8c1b5b1a000",
   "metadata": {},
   "source": [
    "4) Agora vamos fazer o footer como na imagem abaixo."
   ]
  },
  {
   "cell_type": "markdown",
   "id": "fca99dd4-eb72-4c7c-ab79-75cda7a74842",
   "metadata": {},
   "source": [
    "<img src=\"../assets/footer_ecommerce.jpg\" width=\"400px\">"
   ]
  },
  {
   "cell_type": "markdown",
   "id": "b77d7af1-bb91-4c1b-8394-e28e929e9d7d",
   "metadata": {},
   "source": [
    "### Exercícios CSS (não use bibliotecas)"
   ]
  },
  {
   "cell_type": "markdown",
   "id": "a3875ed4-6327-4a93-86b3-eb36757d69f5",
   "metadata": {},
   "source": [
    "5) Aplique estilos no cabeçalho para ficar como na imagem a seguir:"
   ]
  },
  {
   "cell_type": "markdown",
   "id": "b1eacad6-cb95-4f76-843f-f5f842b98051",
   "metadata": {},
   "source": [
    "<img src=\"../assets/style_cabecalho_ecommerce.jpg\" width=\"800px\">"
   ]
  },
  {
   "cell_type": "markdown",
   "id": "510fdada-59b5-4951-b83b-d6fc3083ca03",
   "metadata": {},
   "source": [
    "6) Aplique estilhos no banner e na seção de ofertas do dia para ficar como na imagem:"
   ]
  },
  {
   "cell_type": "markdown",
   "id": "f98ab052-2502-4f9d-bb0c-2a2974aa445b",
   "metadata": {},
   "source": [
    "<img src=\"../assets/style_secao_ofertas_ecommerce.jpg\" width=\"800px\">"
   ]
  },
  {
   "cell_type": "markdown",
   "id": "95ae86f5-1315-4161-b7b9-5022c84f55d9",
   "metadata": {},
   "source": [
    "7) Tente reaproveitar ao máximo classes estilizadas, faça também o estilo para categorias em destaque:"
   ]
  },
  {
   "cell_type": "markdown",
   "id": "5e935710-e2e5-44b5-8691-b80b8c381bc6",
   "metadata": {},
   "source": [
    "<img src=\"../assets/style_secao_categorias_ecommerce.jpg\" width=\"800px\">"
   ]
  },
  {
   "cell_type": "markdown",
   "id": "cf28aa37-d987-449b-abdb-75272bc916d0",
   "metadata": {},
   "source": [
    "8) Agora é hora de estilizar o footer como na imagem abaixo:"
   ]
  },
  {
   "cell_type": "markdown",
   "id": "8e1da9ee-62b2-488e-bf8a-367120410ef1",
   "metadata": {},
   "source": [
    "<img src=\"../assets/style_footer_ecommerce.jpg\" width=\"800px\">"
   ]
  },
  {
   "cell_type": "markdown",
   "id": "c08a3df0-4581-4b68-abdf-7bd666ba9033",
   "metadata": {},
   "source": [
    "## Exercícios CSS (USE BOOSTRAP)"
   ]
  },
  {
   "cell_type": "markdown",
   "id": "e0b7c3c2-d226-4613-a6f3-319ea363cbfa",
   "metadata": {},
   "source": [
    "9) Repita os execícios 5, 6, 7 e 8 usando o framework Boostrap. Você deve linkar o css como explicado na página:\n",
    "\n",
    "https://getbootstrap.com/docs/5.3/getting-started/introduction/"
   ]
  },
  {
   "cell_type": "markdown",
   "id": "f709ea50-5bb1-4b92-8171-fe3a11d30be5",
   "metadata": {},
   "source": [
    "## Exercícios CSS (USE TAILWIND)"
   ]
  },
  {
   "cell_type": "markdown",
   "id": "cff70287-e6dd-40ba-af23-01473f4f2731",
   "metadata": {},
   "source": [
    "10) Repita os execícios 5, 6, 7 e 8 usando o framework Tailwind. Você deve linkar o css como explicado na página:\n",
    "\n",
    "https://tailwindcss.com/docs/installation/play-cdn\n",
    "\n",
    "Consulte classes para serem aplicadas em \n",
    "\n",
    "https://tailwindcss.com/docs/styling-with-utility-classes#overview"
   ]
  },
  {
   "cell_type": "markdown",
   "id": "1963df55-262f-4aa0-9b85-c4d39db11800",
   "metadata": {},
   "source": [
    "### Exercício Templates"
   ]
  },
  {
   "cell_type": "markdown",
   "id": "bcde0ea5-cec0-49c4-9fe3-977ea46beae1",
   "metadata": {},
   "source": [
    "11) Agora que você já praticou bastante HTML, CSS customizado e CSS com frameworks famosos, hora de testar um template. "
   ]
  },
  {
   "cell_type": "markdown",
   "id": "42f12a48-111e-42d7-9705-c40e05cd52e8",
   "metadata": {},
   "source": [
    "- Faça o download do código HTML, CSS e JS do e-commerce Pixie: https://www.tooplate.com/view/2114-pixie\n",
    "- Faça alterações no template para que ele se pareça o ecommerce do mercado livre"
   ]
  },
  {
   "cell_type": "markdown",
   "id": "2dcf4e45-4542-470b-8511-105fa29c3033",
   "metadata": {},
   "source": [
    "### LOVABLE AI"
   ]
  },
  {
   "cell_type": "markdown",
   "id": "5255b4fb-ffd4-4aba-8783-4809d354f587",
   "metadata": {},
   "source": [
    "12. Agora vamos usar uma IA para fazer todo o trabalho\n",
    "\n",
    "- Use uma IA para fazer uma descrição de uma página web completa de um ecommerce\n",
    "- Pegue a descrição e cole no chat no link https://lovable.dev/\n",
    "\n",
    "Aguarde alguns minutos e seu site estará no ar!"
   ]
  },
  {
   "cell_type": "markdown",
   "id": "d384b9f0-8e45-457a-b5c6-3dc1a0dbb286",
   "metadata": {},
   "source": [
    "# ENTREGÁVEIS"
   ]
  },
  {
   "cell_type": "markdown",
   "id": "108d5203-4755-4066-b0b4-98ae27063ab9",
   "metadata": {},
   "source": [
    "- Página no github pages com seu e-commerce sem frameworks\n",
    "- Página no github pages com seu e-commerce com Boostrap ou Tailwind\n",
    "- Página no github pages com seu e-commerce adaptado do template Pixie\n",
    "- Página no ar do e-commerce criado com IA\n",
    "      - Exemplo do meu: https://mercado-livre-replica-html.lovable.app"
   ]
  },
  {
   "cell_type": "code",
   "execution_count": null,
   "id": "3dec208a-af2f-4717-b79a-4455b2fecc29",
   "metadata": {},
   "outputs": [],
   "source": []
  }
 ],
 "metadata": {
  "kernelspec": {
   "display_name": "Python 3 (ipykernel)",
   "language": "python",
   "name": "python3"
  },
  "language_info": {
   "codemirror_mode": {
    "name": "ipython",
    "version": 3
   },
   "file_extension": ".py",
   "mimetype": "text/x-python",
   "name": "python",
   "nbconvert_exporter": "python",
   "pygments_lexer": "ipython3",
   "version": "3.9.12"
  }
 },
 "nbformat": 4,
 "nbformat_minor": 5
}
