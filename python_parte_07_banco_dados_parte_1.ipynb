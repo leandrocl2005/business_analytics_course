{
 "cells": [
  {
   "cell_type": "markdown",
   "id": "146c057a",
   "metadata": {},
   "source": [
    "# Banco de dados"
   ]
  },
  {
   "cell_type": "markdown",
   "id": "80c3a82c-7468-4211-a348-38dcda3e8225",
   "metadata": {},
   "source": [
    "Banco de dados é uma estrutura organizada para armazenar, gerenciar e recuperar informações de forma eficiente. Um termo conhecido é o CRUD (create, read, update e delete). Conheceremos agora um banco de dados para testes, chamado Sqlite3."
   ]
  },
  {
   "cell_type": "code",
   "execution_count": 1,
   "id": "6b72c1f3",
   "metadata": {},
   "outputs": [],
   "source": [
    "# importando a biblioteca para fazer operações em banco de dados sqlite3\n",
    "import sqlite3\n",
    "# importando a bibliotecas pandas para transformar dados e tabelas do banco em data frames \n",
    "import pandas as pd"
   ]
  },
  {
   "cell_type": "markdown",
   "id": "598e30e2",
   "metadata": {},
   "source": [
    "# CONNECTION"
   ]
  },
  {
   "cell_type": "code",
   "execution_count": 2,
   "id": "70dfa733",
   "metadata": {},
   "outputs": [],
   "source": [
    "# criaremos a conexão com nosso banco de dados\n",
    "# se ele não existir, será criado\n",
    "conn = sqlite3.connect(\"database.db\")"
   ]
  },
  {
   "cell_type": "markdown",
   "id": "d4590ba8",
   "metadata": {},
   "source": [
    "# CREATE TABLE"
   ]
  },
  {
   "cell_type": "code",
   "execution_count": 3,
   "id": "26f36036",
   "metadata": {},
   "outputs": [],
   "source": [
    "# Podemos agora criar tabelas\n",
    "# criaremos a tabela (table) tasks com campos (fields) id, description e done\n",
    "conn.execute(\"\"\"\n",
    "    CREATE TABLE IF NOT EXISTS tasks\n",
    "    (\n",
    "        id INTEGER PRIMARY KEY AUTOINCREMENT,\n",
    "        description TEXT,\n",
    "        done INTEGER\n",
    "    )    \n",
    "\"\"\")\n",
    "# após executar uma operação é necessário salvá-la\n",
    "conn.commit()"
   ]
  },
  {
   "cell_type": "markdown",
   "id": "a918a183",
   "metadata": {},
   "source": [
    "# CREATE"
   ]
  },
  {
   "cell_type": "code",
   "execution_count": 4,
   "id": "1c08b3aa",
   "metadata": {},
   "outputs": [
    {
     "ename": "IntegrityError",
     "evalue": "NOT NULL constraint failed: tasks.category_id",
     "output_type": "error",
     "traceback": [
      "\u001b[1;31m---------------------------------------------------------------------------\u001b[0m",
      "\u001b[1;31mIntegrityError\u001b[0m                            Traceback (most recent call last)",
      "Cell \u001b[1;32mIn[4], line 3\u001b[0m\n\u001b[0;32m      1\u001b[0m \u001b[38;5;66;03m# criaremos agora um registro (row) na tabela tasks\u001b[39;00m\n\u001b[0;32m      2\u001b[0m \u001b[38;5;66;03m# o registro terá valor 'Estudar seaborn' para description e 0 para done.\u001b[39;00m\n\u001b[1;32m----> 3\u001b[0m \u001b[43mconn\u001b[49m\u001b[38;5;241;43m.\u001b[39;49m\u001b[43mexecute\u001b[49m\u001b[43m(\u001b[49m\u001b[38;5;124;43m\"\"\"\u001b[39;49m\n\u001b[0;32m      4\u001b[0m \u001b[38;5;124;43m    INSERT INTO tasks (description, done)\u001b[39;49m\n\u001b[0;32m      5\u001b[0m \u001b[38;5;124;43m    VALUES (\u001b[39;49m\u001b[38;5;124;43m'\u001b[39;49m\u001b[38;5;124;43mEstudar seaborn\u001b[39;49m\u001b[38;5;124;43m'\u001b[39;49m\u001b[38;5;124;43m, 0);    \u001b[39;49m\n\u001b[0;32m      6\u001b[0m \u001b[38;5;124;43m\"\"\"\u001b[39;49m\u001b[43m)\u001b[49m\n\u001b[0;32m      7\u001b[0m \u001b[38;5;66;03m# novamente, após executar o comando é necessário salvar\u001b[39;00m\n\u001b[0;32m      8\u001b[0m conn\u001b[38;5;241m.\u001b[39mcommit()\n",
      "\u001b[1;31mIntegrityError\u001b[0m: NOT NULL constraint failed: tasks.category_id"
     ]
    }
   ],
   "source": [
    "# criaremos agora um registro (row) na tabela tasks\n",
    "# o registro terá valor 'Estudar seaborn' para description e 0 para done.\n",
    "conn.execute(\"\"\"\n",
    "    INSERT INTO tasks (description, done)\n",
    "    VALUES ('Estudar seaborn', 0);    \n",
    "\"\"\")\n",
    "# novamente, após executar o comando é necessário salvar\n",
    "conn.commit()"
   ]
  },
  {
   "cell_type": "code",
   "execution_count": 5,
   "id": "e3e90d8f",
   "metadata": {},
   "outputs": [],
   "source": [
    "# TODO\n",
    "\n",
    "# crie um registro (row) na tabela tasks\n",
    "# o registro terá valor 'Estudar python' para description e 1 para done.\n",
    "conn.execute(\"\"\"\n",
    " \n",
    "\"\"\")\n",
    "# novamente, após executar o comando é necessário salvar\n",
    "conn.commit()"
   ]
  },
  {
   "cell_type": "code",
   "execution_count": 6,
   "id": "f53db54e-0d21-4f8e-bda5-fa8b25eac603",
   "metadata": {},
   "outputs": [],
   "source": [
    "# TODO\n",
    "\n",
    "# crie um registro (row) na tabela tasks\n",
    "# o registro terá valor 'Entregar livro' para description e 0 para done.\n",
    "conn.execute(\"\"\"\n",
    " \n",
    "\"\"\")\n",
    "# novamente, após executar o comando é necessário salvar\n",
    "conn.commit()"
   ]
  },
  {
   "cell_type": "markdown",
   "id": "c7ef76ae",
   "metadata": {},
   "source": [
    "# READ"
   ]
  },
  {
   "cell_type": "code",
   "execution_count": 7,
   "id": "741cfebc",
   "metadata": {},
   "outputs": [
    {
     "name": "stdout",
     "output_type": "stream",
     "text": [
      "(1, 'Assistir Netflix', 1, 2)\n",
      "(2, 'Estudar matplotlib', 0, 3)\n",
      "(3, 'Estudar seaborn', 0, 3)\n",
      "(4, 'Estudar Pandas', 0, 3)\n",
      "(5, 'Lavar louça', 0, 1)\n"
     ]
    }
   ],
   "source": [
    "# podemos agora visualizar todos (*) os registros da (FROM) tabela tasks\n",
    "results = conn.execute(\"\"\"\n",
    "    SELECT *\n",
    "    FROM tasks\n",
    "\"\"\").fetchall()\n",
    "# imprimindo cada resultado\n",
    "for result in results:\n",
    "    print(result)"
   ]
  },
  {
   "cell_type": "code",
   "execution_count": 8,
   "id": "54d13852",
   "metadata": {},
   "outputs": [
    {
     "name": "stdout",
     "output_type": "stream",
     "text": [
      "('Estudar matplotlib',)\n",
      "('Estudar seaborn',)\n",
      "('Estudar Pandas',)\n",
      "('Lavar louça',)\n"
     ]
    }
   ],
   "source": [
    "# ver os valores de description da (FROM) tabela tasks onde (WHERE) done = 0\n",
    "results = conn.execute(\"\"\"\n",
    "    SELECT description\n",
    "    FROM tasks\n",
    "    WHERE done=0\n",
    "\"\"\").fetchall()\n",
    "# imprimindo cada resultado\n",
    "for result in results:\n",
    "    print(result)"
   ]
  },
  {
   "cell_type": "code",
   "execution_count": 9,
   "id": "f6089bbe-b8bf-4ca2-b34f-660f7ae9ec06",
   "metadata": {},
   "outputs": [],
   "source": [
    "# TODO\n",
    "\n",
    "# ver os valores de description da (FROM) tabela tasks onde (WHERE) done = 0 e description começa com 'Estudar'\n",
    "results = conn.execute(\"\"\"\n",
    "\n",
    "\"\"\").fetchall()\n",
    "# imprimindo cada resultado\n",
    "for result in results:\n",
    "    print(result)"
   ]
  },
  {
   "cell_type": "markdown",
   "id": "c07ab10e",
   "metadata": {},
   "source": [
    "# UPDATE"
   ]
  },
  {
   "cell_type": "code",
   "execution_count": 10,
   "id": "b1a55e4c",
   "metadata": {},
   "outputs": [],
   "source": [
    "# Atualizar (update) na tabela tasks as linhas (rows) cujo id = 1 fazendo (SET) done = 1\n",
    "conn.execute(\"\"\"\n",
    "    UPDATE tasks\n",
    "    SET done=1\n",
    "    WHERE id=1\n",
    "\"\"\")\n",
    "# salvando as atualizações\n",
    "conn.commit()"
   ]
  },
  {
   "cell_type": "code",
   "execution_count": 11,
   "id": "e8d5f60b-5251-4d8e-8622-d86bd8124463",
   "metadata": {},
   "outputs": [],
   "source": [
    "# TODO\n",
    "\n",
    "# Atualizar (update) na tabela tasks as linhas (rows) cujo description = \"Estudar seaborn\" fazendo (SET) description = \"Estudar matplotlib\"\n",
    "conn.execute(\"\"\"\n",
    "\n",
    "\"\"\")\n",
    "# salvando as atualizações\n",
    "conn.commit()"
   ]
  },
  {
   "cell_type": "markdown",
   "id": "d4a8d8e2",
   "metadata": {},
   "source": [
    "# DELETE"
   ]
  },
  {
   "cell_type": "code",
   "execution_count": 12,
   "id": "137a38de",
   "metadata": {},
   "outputs": [],
   "source": [
    "# deletar da (FROM) tabela tasks as linhas (rows) onde id = 1\n",
    "conn.execute(\"\"\"\n",
    "    DELETE FROM tasks\n",
    "    WHERE id=1\n",
    "\"\"\")\n",
    "conn.commit()"
   ]
  },
  {
   "cell_type": "markdown",
   "id": "3b642d3b",
   "metadata": {},
   "source": [
    "# Pandas query"
   ]
  },
  {
   "cell_type": "markdown",
   "id": "fed42bfa-27de-4c67-b7f7-a588bd779f7a",
   "metadata": {},
   "source": [
    "Quando se fala em tabelas, uma das bibliotecas mais utilizar é a biblioteca pandas. Para nossa conveniência, o método read_sql_query da biblioteca retorna data frames de consultas SQL."
   ]
  },
  {
   "cell_type": "code",
   "execution_count": 15,
   "id": "27903865",
   "metadata": {},
   "outputs": [
    {
     "data": {
      "text/html": [
       "<div>\n",
       "<style scoped>\n",
       "    .dataframe tbody tr th:only-of-type {\n",
       "        vertical-align: middle;\n",
       "    }\n",
       "\n",
       "    .dataframe tbody tr th {\n",
       "        vertical-align: top;\n",
       "    }\n",
       "\n",
       "    .dataframe thead th {\n",
       "        text-align: right;\n",
       "    }\n",
       "</style>\n",
       "<table border=\"1\" class=\"dataframe\">\n",
       "  <thead>\n",
       "    <tr style=\"text-align: right;\">\n",
       "      <th></th>\n",
       "      <th>id</th>\n",
       "      <th>description</th>\n",
       "      <th>done</th>\n",
       "      <th>category_id</th>\n",
       "    </tr>\n",
       "  </thead>\n",
       "  <tbody>\n",
       "    <tr>\n",
       "      <th>0</th>\n",
       "      <td>2</td>\n",
       "      <td>Estudar matplotlib</td>\n",
       "      <td>0</td>\n",
       "      <td>3</td>\n",
       "    </tr>\n",
       "    <tr>\n",
       "      <th>1</th>\n",
       "      <td>3</td>\n",
       "      <td>Estudar seaborn</td>\n",
       "      <td>0</td>\n",
       "      <td>3</td>\n",
       "    </tr>\n",
       "    <tr>\n",
       "      <th>2</th>\n",
       "      <td>4</td>\n",
       "      <td>Estudar Pandas</td>\n",
       "      <td>0</td>\n",
       "      <td>3</td>\n",
       "    </tr>\n",
       "    <tr>\n",
       "      <th>3</th>\n",
       "      <td>5</td>\n",
       "      <td>Lavar louça</td>\n",
       "      <td>0</td>\n",
       "      <td>1</td>\n",
       "    </tr>\n",
       "  </tbody>\n",
       "</table>\n",
       "</div>"
      ],
      "text/plain": [
       "   id         description  done  category_id\n",
       "0   2  Estudar matplotlib     0            3\n",
       "1   3     Estudar seaborn     0            3\n",
       "2   4      Estudar Pandas     0            3\n",
       "3   5         Lavar louça     0            1"
      ]
     },
     "execution_count": 15,
     "metadata": {},
     "output_type": "execute_result"
    }
   ],
   "source": [
    "df = pd.read_sql_query(\n",
    "    \"\"\"\n",
    "       SELECT *\n",
    "       FROM tasks\n",
    "    \"\"\",\n",
    "    conn\n",
    ")\n",
    "df"
   ]
  },
  {
   "cell_type": "markdown",
   "id": "4d9e2ce0",
   "metadata": {},
   "source": [
    "# AGRUPAMENTO E AGREGAÇÃO"
   ]
  },
  {
   "cell_type": "markdown",
   "id": "e3c6034c-a432-4ef3-9fee-d6383abcc8a3",
   "metadata": {},
   "source": [
    "Existe um paralelo entre os métodos da biblioteca pandas e as queries SQL. Vejamos por exemplo como contar as linhas da tabela tasks onde done = 1"
   ]
  },
  {
   "cell_type": "code",
   "execution_count": 16,
   "id": "08d7f0d0",
   "metadata": {},
   "outputs": [
    {
     "data": {
      "text/plain": [
       "done\n",
       "0    4\n",
       "Name: count, dtype: int64"
      ]
     },
     "execution_count": 16,
     "metadata": {},
     "output_type": "execute_result"
    }
   ],
   "source": [
    "df['done'].value_counts()"
   ]
  },
  {
   "cell_type": "markdown",
   "id": "ab408385-6d37-4945-98c9-720df5e0afe9",
   "metadata": {},
   "source": [
    "Podemos fazer diretamente usando SQL:"
   ]
  },
  {
   "cell_type": "code",
   "execution_count": 17,
   "id": "29fb1ac8",
   "metadata": {},
   "outputs": [
    {
     "name": "stdout",
     "output_type": "stream",
     "text": [
      "(0, 4)\n"
     ]
    }
   ],
   "source": [
    "results = conn.execute(\"\"\"\n",
    "    SELECT done, COUNT(*) AS done_tasks\n",
    "    FROM tasks\n",
    "    GROUP BY done;      \n",
    "\"\"\").fetchall()\n",
    "\n",
    "for result in results:\n",
    "    print(result)"
   ]
  },
  {
   "cell_type": "markdown",
   "id": "fa96b373-063f-4edf-a761-6cc9fd7ea08f",
   "metadata": {},
   "source": [
    "# Encerrando a conexão"
   ]
  },
  {
   "cell_type": "code",
   "execution_count": 18,
   "id": "7c7c8930-7cb7-4dce-90e1-cbaac7673f94",
   "metadata": {},
   "outputs": [],
   "source": [
    "conn.close()"
   ]
  },
  {
   "cell_type": "markdown",
   "id": "ccc1dc2c",
   "metadata": {},
   "source": [
    "# RELACIONAMENTO"
   ]
  },
  {
   "cell_type": "markdown",
   "id": "578a8f00-8dab-4896-9535-f651181ff9ad",
   "metadata": {},
   "source": [
    "Antes de começar você pode apagar o arquivo database.db, vamos recriá-lo. Se decidir por não apagar, mude o nome do arquivo dessa nova conexão."
   ]
  },
  {
   "cell_type": "code",
   "execution_count": null,
   "id": "4062ae07",
   "metadata": {},
   "outputs": [],
   "source": [
    "conn = sqlite3.connect(\"database.db\")\n",
    "\n",
    "conn.execute(\"\"\"\n",
    "    CREATE TABLE categories \n",
    "    (\n",
    "      id    INTEGER PRIMARY KEY, \n",
    "      name  TEXT NOT NULL\n",
    "    );\n",
    "\"\"\")\n",
    "\n",
    "conn.execute(\n",
    "    \"\"\"\n",
    "        INSERT INTO categories (name)\n",
    "        VALUES\n",
    "          ('casa'),\n",
    "          ('laser'),\n",
    "          ('faculdade')\n",
    "    \"\"\"\n",
    ")\n",
    "conn.commit()"
   ]
  },
  {
   "cell_type": "code",
   "execution_count": 20,
   "id": "f2f2e8ae-68dd-4d64-bb1d-f4cccd571a78",
   "metadata": {},
   "outputs": [],
   "source": [
    "conn.close()"
   ]
  },
  {
   "cell_type": "markdown",
   "id": "f531d81d-7e2b-4890-a6bc-e4e8ed56323b",
   "metadata": {},
   "source": [
    "A tabela tasks agora terá uma chave estrangeira (FOREIGN KEY) que faz referência ao campo id da tabela categories. Logo estas duas tabelas estão conectadas."
   ]
  },
  {
   "cell_type": "code",
   "execution_count": null,
   "id": "0a2d1bb8",
   "metadata": {},
   "outputs": [],
   "source": [
    "conn.execute(\"\"\"\n",
    "    CREATE TABLE tasks \n",
    "    (\n",
    "      id            INTEGER PRIMARY KEY AUTOINCREMENT, \n",
    "      description   TEXT NOT NULL,\n",
    "      done          INTEGER,\n",
    "      category_id   INTEGER NOT NULL,\n",
    "      FOREIGN KEY (category_id) REFERENCES categories (id)\n",
    "    )\n",
    "\"\"\")\n",
    "conn.commit()"
   ]
  },
  {
   "cell_type": "markdown",
   "id": "ea6de5f3-6d18-41b6-92a9-ec8a7f51903e",
   "metadata": {},
   "source": [
    "<center><img src=\"./assets/tasks_categories_relationship.png\" width=\"400px\"></center>"
   ]
  },
  {
   "cell_type": "markdown",
   "id": "89cf4215",
   "metadata": {},
   "source": [
    "# JOIN"
   ]
  },
  {
   "cell_type": "markdown",
   "id": "d6bd8b8e-fdde-452b-a470-5da768fc1338",
   "metadata": {},
   "source": [
    "Nosso próximo passo é fazer uma querie que junta as duas tabelas anteriores numa só. Antes, vamos inserir alguns dados na tabela tasks."
   ]
  },
  {
   "cell_type": "code",
   "execution_count": null,
   "id": "d5673e2b",
   "metadata": {},
   "outputs": [],
   "source": [
    "# insert many\n",
    "conn.execute(\n",
    "    \"\"\"\n",
    "    INSERT INTO 'tasks' (description, done, category_id)\n",
    "    VALUES\n",
    "      ('Assistir Netflix', 1, 2),\n",
    "      ('Estudar matplotlib', 0, 3),\n",
    "      ('Estudar seaborn', 0, 3),\n",
    "      ('Estudar Pandas', 0, 3),\n",
    "      ('Lavar louça', 0, 1)\n",
    "    \"\"\"\n",
    ")\n",
    "conn.commit()"
   ]
  },
  {
   "cell_type": "markdown",
   "id": "506b9158-741f-4ef4-9a9e-8e76d8502c4a",
   "metadata": {},
   "source": [
    "Agora sim, juntaremos as tabelas."
   ]
  },
  {
   "cell_type": "code",
   "execution_count": null,
   "id": "70294311",
   "metadata": {},
   "outputs": [],
   "source": [
    "tasks_with_categories = conn.execute(\n",
    "    \"\"\"\n",
    "    SELECT t.id, t.description, t.done, c.name \n",
    "    FROM tasks AS t \n",
    "    INNER JOIN categories AS c\n",
    "      ON c.id = t.category_id\n",
    "    ORDER BY c.name\n",
    "    \"\"\"\n",
    ").fetchall()\n",
    "\n",
    "for task in tasks_with_categories:\n",
    "    print(task)"
   ]
  },
  {
   "cell_type": "markdown",
   "id": "ab34858a-05de-4b53-9ddd-793b1e5d6de0",
   "metadata": {},
   "source": [
    "Usando pandas para ter o resultado como um objeto data frame."
   ]
  },
  {
   "cell_type": "code",
   "execution_count": null,
   "id": "23ff6c81-293c-434c-ae29-aa9abe6c9408",
   "metadata": {},
   "outputs": [],
   "source": [
    "df = pd.read_sql_query(\n",
    "    \"\"\"\n",
    "    SELECT t.id, t.description, t.done, c.name \n",
    "    FROM tasks AS t \n",
    "    INNER JOIN categories AS c\n",
    "      ON c.id = t.category_id\n",
    "    ORDER BY c.name\n",
    "    \"\"\",\n",
    "    conn\n",
    ")\n",
    "df"
   ]
  },
  {
   "cell_type": "markdown",
   "id": "18a42423",
   "metadata": {},
   "source": [
    "# Close connection"
   ]
  },
  {
   "cell_type": "code",
   "execution_count": null,
   "id": "6707c166",
   "metadata": {},
   "outputs": [],
   "source": [
    "conn.close()"
   ]
  },
  {
   "cell_type": "markdown",
   "id": "cee453f4",
   "metadata": {},
   "source": [
    "# Exercícios"
   ]
  },
  {
   "cell_type": "markdown",
   "id": "b744433a",
   "metadata": {},
   "source": [
    "<img src=\"assets/sqlite-sample-database-color.jpg\">"
   ]
  },
  {
   "cell_type": "markdown",
   "id": "5cd4ec19",
   "metadata": {},
   "source": [
    "Faça o download do bando SQLite3 no site: https://www.sqlitetutorial.net/sqlite-sample-database/"
   ]
  },
  {
   "cell_type": "markdown",
   "id": "79af7eb3-3eea-499f-bfd5-87c4441f5a04",
   "metadata": {},
   "source": [
    "O arquivo também está na pastas assets, caso não queira fazer o download."
   ]
  },
  {
   "cell_type": "markdown",
   "id": "cbec74eb",
   "metadata": {},
   "source": [
    "Usando os conhecimentos da aula, resolva os seguinte problemas:"
   ]
  },
  {
   "cell_type": "markdown",
   "id": "13bcf72b",
   "metadata": {},
   "source": [
    "1. Fornecer uma consulta que mostre os clientes (apenas seus nomes completos, ID do cliente e país) que não estão nos EUA."
   ]
  },
  {
   "cell_type": "code",
   "execution_count": null,
   "id": "49bc36c7-e959-4412-a102-8a690145704e",
   "metadata": {},
   "outputs": [],
   "source": [
    "conn = sqlite3.connect(\"chinook.db\")\n",
    "df = pd.read_sql_query(\n",
    "    \"\"\"\n",
    "        SELECT CustomerId, FirstName || ' ' || LastName AS FullName, Country\n",
    "        FROM customers\n",
    "        WHERE Country != 'USA'\n",
    "    \"\"\",\n",
    "    conn\n",
    ")\n",
    "conn.close()\n",
    "df"
   ]
  },
  {
   "cell_type": "markdown",
   "id": "df368da0",
   "metadata": {},
   "source": [
    "2. Fornecer uma consulta que mostre apenas os clientes do Brasil."
   ]
  },
  {
   "cell_type": "code",
   "execution_count": null,
   "id": "cffe2a1d",
   "metadata": {},
   "outputs": [],
   "source": [
    "# TODO"
   ]
  },
  {
   "cell_type": "markdown",
   "id": "cb65a215",
   "metadata": {},
   "source": [
    "3. Fornecer uma consulta que mostre as faturas dos clientes que são do Brasil. A tabela resultante deve mostrar o nome completo do cliente, ID da fatura, data da fatura e país de cobrança."
   ]
  },
  {
   "cell_type": "code",
   "execution_count": null,
   "id": "d598ebf2",
   "metadata": {},
   "outputs": [],
   "source": [
    "# TODO"
   ]
  },
  {
   "cell_type": "markdown",
   "id": "b8c6796d",
   "metadata": {},
   "source": [
    "4. Fornecer uma consulta que mostre apenas os funcionários que são agentes de vendas."
   ]
  },
  {
   "cell_type": "code",
   "execution_count": null,
   "id": "97aad9c6",
   "metadata": {},
   "outputs": [],
   "source": [
    "# TODO"
   ]
  },
  {
   "cell_type": "markdown",
   "id": "27431501",
   "metadata": {},
   "source": [
    "5. Fornecer uma consulta que mostre uma lista única de países de cobrança da tabela de faturas."
   ]
  },
  {
   "cell_type": "code",
   "execution_count": null,
   "id": "213ae792",
   "metadata": {},
   "outputs": [],
   "source": [
    "# TODO"
   ]
  },
  {
   "cell_type": "markdown",
   "id": "aaea1e5f",
   "metadata": {},
   "source": [
    "6. Fornecer uma consulta que mostre as faturas associadas a cada agente de vendas. A tabela resultante deve incluir o nome completo do agente de vendas."
   ]
  },
  {
   "cell_type": "code",
   "execution_count": null,
   "id": "d83d013a",
   "metadata": {},
   "outputs": [],
   "source": [
    "# TODO"
   ]
  },
  {
   "cell_type": "markdown",
   "id": "d7687ca9",
   "metadata": {},
   "source": [
    "7. Fornecer uma consulta que mostre o valor total da fatura, nome do cliente, país e nome do agente de vendas de todas as faturas e clientes."
   ]
  },
  {
   "cell_type": "code",
   "execution_count": null,
   "id": "4749eafb",
   "metadata": {},
   "outputs": [],
   "source": [
    "# TODO"
   ]
  },
  {
   "cell_type": "markdown",
   "id": "8909fe57",
   "metadata": {},
   "source": [
    "8. Quantas faturas houve em 2009 e 2011? Quais são as vendas totais respectivas para cada um desses anos?"
   ]
  },
  {
   "cell_type": "code",
   "execution_count": null,
   "id": "9486b947",
   "metadata": {},
   "outputs": [],
   "source": [
    "# TODO"
   ]
  },
  {
   "cell_type": "markdown",
   "id": "e0fff051",
   "metadata": {},
   "source": [
    "9. Analisando a tabela InvoiceLine, forneça uma consulta que CONTE o número de itens para o ID da fatura 37."
   ]
  },
  {
   "cell_type": "code",
   "execution_count": null,
   "id": "245170ab",
   "metadata": {},
   "outputs": [],
   "source": [
    "# TODO"
   ]
  },
  {
   "cell_type": "markdown",
   "id": "34d52953",
   "metadata": {},
   "source": [
    "10. Analisando a tabela invoice_items, forneça uma consulta que CONTE o número de itens para cada fatura. DICA: AGRUPAR POR"
   ]
  },
  {
   "cell_type": "code",
   "execution_count": null,
   "id": "9a3769a9",
   "metadata": {},
   "outputs": [],
   "source": [
    "# TODO"
   ]
  },
  {
   "cell_type": "markdown",
   "id": "6b0b64a7",
   "metadata": {},
   "source": [
    "11. Fornecer uma consulta que inclua o nome da faixa para cada linha da tabela de itens da fatura."
   ]
  },
  {
   "cell_type": "code",
   "execution_count": null,
   "id": "c634de23",
   "metadata": {},
   "outputs": [],
   "source": [
    "# TODO"
   ]
  },
  {
   "cell_type": "markdown",
   "id": "e22689a3",
   "metadata": {},
   "source": [
    "12. Forneça uma consulta que mostre o nome da música e o artista para cada linha da tabela de itens da fatura."
   ]
  },
  {
   "cell_type": "code",
   "execution_count": null,
   "id": "057a5fc4",
   "metadata": {},
   "outputs": [],
   "source": [
    "# todo"
   ]
  },
  {
   "cell_type": "markdown",
   "id": "9045f238",
   "metadata": {},
   "source": [
    "13. Fornecer uma consulta que mostre o número de faturas por país. DICA: AGRUPAR POR"
   ]
  },
  {
   "cell_type": "code",
   "execution_count": null,
   "id": "272dffae",
   "metadata": {},
   "outputs": [],
   "source": [
    "# TODO"
   ]
  },
  {
   "cell_type": "markdown",
   "id": "a5bf7376",
   "metadata": {},
   "source": [
    "14. Forneça uma consulta que mostra o número total de música por playlist. O nome das playlists devem aparecer na tabela resultante."
   ]
  },
  {
   "cell_type": "code",
   "execution_count": null,
   "id": "b76cf6c5",
   "metadata": {},
   "outputs": [],
   "source": [
    "# TODO"
   ]
  },
  {
   "cell_type": "markdown",
   "id": "540a53bd",
   "metadata": {},
   "source": [
    "15.Forneça uma consulta que mostra todos os nomes das músicas, mas não mostra ids. A tabela resultante deve incluir o nome do álbum, tipo de media e gênero."
   ]
  },
  {
   "cell_type": "code",
   "execution_count": null,
   "id": "406a77dd",
   "metadata": {},
   "outputs": [],
   "source": [
    "# TODO"
   ]
  },
  {
   "cell_type": "markdown",
   "id": "d199eb7e",
   "metadata": {},
   "source": [
    "16. Forneça uma consulta que mostra todas as faturas por id e a contagem de itens por fatura."
   ]
  },
  {
   "cell_type": "code",
   "execution_count": null,
   "id": "f9ae4b83",
   "metadata": {},
   "outputs": [],
   "source": [
    "# TODO"
   ]
  },
  {
   "cell_type": "markdown",
   "id": "afd9b1de",
   "metadata": {},
   "source": [
    "17. Fornecer uma consulta que mostro o número total de vendas de cada vendedor."
   ]
  },
  {
   "cell_type": "code",
   "execution_count": null,
   "id": "6fee47cf",
   "metadata": {},
   "outputs": [],
   "source": [
    "# TODO"
   ]
  },
  {
   "cell_type": "markdown",
   "id": "128237a1",
   "metadata": {},
   "source": [
    "18. Qual vendedor (sales agent) mais vendeu em 2009?"
   ]
  },
  {
   "cell_type": "code",
   "execution_count": null,
   "id": "78450a50",
   "metadata": {},
   "outputs": [],
   "source": [
    "# TODO"
   ]
  },
  {
   "cell_type": "markdown",
   "id": "ca17283b",
   "metadata": {},
   "source": [
    "19. Qual vendedor (sales agent) mais vendeu em 2010?"
   ]
  },
  {
   "cell_type": "code",
   "execution_count": null,
   "id": "2495066a",
   "metadata": {},
   "outputs": [],
   "source": [
    "# TODO"
   ]
  },
  {
   "cell_type": "markdown",
   "id": "c025a4b5",
   "metadata": {},
   "source": [
    "20. Qual vendedor (sales agent) mais vendeu considerando toda base de dados?"
   ]
  },
  {
   "cell_type": "code",
   "execution_count": null,
   "id": "fa542ad2",
   "metadata": {},
   "outputs": [],
   "source": [
    "# TODO"
   ]
  },
  {
   "cell_type": "markdown",
   "id": "d6232eae",
   "metadata": {},
   "source": [
    "21. Forneça uma consulta que mostra o número de clientes inscritos para cada vendedor (sales agente)."
   ]
  },
  {
   "cell_type": "code",
   "execution_count": null,
   "id": "c5b0880e",
   "metadata": {},
   "outputs": [],
   "source": [
    "# TODO"
   ]
  },
  {
   "cell_type": "markdown",
   "id": "794f8534",
   "metadata": {},
   "source": [
    "22. Forneça uma consulta que mostra o total de vendas por país."
   ]
  },
  {
   "cell_type": "code",
   "execution_count": null,
   "id": "8ea586f5",
   "metadata": {},
   "outputs": [],
   "source": [
    "# TODO"
   ]
  },
  {
   "cell_type": "markdown",
   "id": "a1177ce9",
   "metadata": {},
   "source": [
    "23. De qual país os clientes mais gastaram?"
   ]
  },
  {
   "cell_type": "code",
   "execution_count": null,
   "id": "2ac01aa7",
   "metadata": {},
   "outputs": [],
   "source": [
    "# TODO"
   ]
  },
  {
   "cell_type": "markdown",
   "id": "fc631e17",
   "metadata": {},
   "source": [
    "24. Forneça uma consulta que mostra a faixa mais comprada de 2013."
   ]
  },
  {
   "cell_type": "code",
   "execution_count": null,
   "id": "199e5a5c",
   "metadata": {},
   "outputs": [],
   "source": [
    "# TODO"
   ]
  },
  {
   "cell_type": "markdown",
   "id": "3d171c55",
   "metadata": {},
   "source": [
    "25. Forneça uma consulta que mostra as top 5 faixas mais compradas de todos os tempos."
   ]
  },
  {
   "cell_type": "code",
   "execution_count": null,
   "id": "5dcb8793",
   "metadata": {},
   "outputs": [],
   "source": [
    "# TODO"
   ]
  },
  {
   "cell_type": "markdown",
   "id": "823e3079",
   "metadata": {},
   "source": [
    "26. Forneça uma consulta que mostra os top 3 artistas mais vendidos de toda base de dados."
   ]
  },
  {
   "cell_type": "code",
   "execution_count": null,
   "id": "7f9a61c2",
   "metadata": {},
   "outputs": [],
   "source": [
    "# TODO"
   ]
  },
  {
   "cell_type": "markdown",
   "id": "24e65276",
   "metadata": {},
   "source": [
    "27. Forneça uma query que mostra qual o tipo de media mais comprado."
   ]
  },
  {
   "cell_type": "code",
   "execution_count": null,
   "id": "475d2f3d",
   "metadata": {},
   "outputs": [],
   "source": [
    "# TODO"
   ]
  },
  {
   "cell_type": "markdown",
   "id": "7e802d58",
   "metadata": {},
   "source": [
    "### Referência para os exercícios:"
   ]
  },
  {
   "cell_type": "markdown",
   "id": "406334f3",
   "metadata": {},
   "source": [
    "http://www.berkut.mk.ua/download/pdf/db/task_vesna.pdf"
   ]
  },
  {
   "cell_type": "code",
   "execution_count": null,
   "id": "f304b033",
   "metadata": {},
   "outputs": [],
   "source": []
  },
  {
   "cell_type": "code",
   "execution_count": null,
   "id": "06f0a5d2",
   "metadata": {},
   "outputs": [],
   "source": []
  }
 ],
 "metadata": {
  "kernelspec": {
   "display_name": "Python 3 (ipykernel)",
   "language": "python",
   "name": "python3"
  },
  "language_info": {
   "codemirror_mode": {
    "name": "ipython",
    "version": 3
   },
   "file_extension": ".py",
   "mimetype": "text/x-python",
   "name": "python",
   "nbconvert_exporter": "python",
   "pygments_lexer": "ipython3",
   "version": "3.9.12"
  }
 },
 "nbformat": 4,
 "nbformat_minor": 5
}
