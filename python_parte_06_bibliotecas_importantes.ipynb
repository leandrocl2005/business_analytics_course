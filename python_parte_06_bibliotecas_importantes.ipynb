{
 "cells": [
  {
   "cell_type": "markdown",
   "metadata": {},
   "source": [
    "<h1>Bibliotecas</h1>"
   ]
  },
  {
   "cell_type": "markdown",
   "metadata": {},
   "source": [
    "No notebook anterior vimos algumas bibliotecas nativas como random e math, e outras bibliotecas de terceiros como scipy, numpy e matplotlib."
   ]
  },
  {
   "cell_type": "markdown",
   "metadata": {},
   "source": [
    "Neste notebook veremos outras bibliotecas úteis e faremos algumas operações úteis para análise de dados. Bem como utilizaremos estas para resolver alguns problemas."
   ]
  },
  {
   "cell_type": "code",
   "execution_count": null,
   "metadata": {},
   "outputs": [],
   "source": [
    "# Instalando a biblioteca pandas\n",
    "!pip install pandas\n",
    "# Instalando a biblioteca matplotlib\n",
    "!pip install matplotlib\n",
    "# Instalando a biblioteca seaborn\n",
    "!pip install seaborn\n",
    "# Instalando a biblioteca requests\n",
    "!pip install requests"
   ]
  },
  {
   "cell_type": "markdown",
   "metadata": {},
   "source": [
    "# SQLITE"
   ]
  },
  {
   "cell_type": "markdown",
   "metadata": {},
   "source": [
    "Na pasta assets temos um arquivo chamado chinook.db. Este arquivo é um banco de dados SQLite3 e contém dados de uma loja antiga de música. Utilizaremos a biblioteca sqlite3 para conectar e executar algumas queries neste arquivo:"
   ]
  },
  {
   "cell_type": "code",
   "execution_count": null,
   "metadata": {},
   "outputs": [],
   "source": [
    "# importando a biblioteca sqlite\n",
    "import sqlite3\n",
    "# conectando ao banco de dados\n",
    "conn = sqlite3.connect('assets/chinook.db')\n",
    "# criando um cursor\n",
    "cursor = conn.cursor()\n",
    "# criando a query para ler a tabela tracks\n",
    "query = \"SELECT * FROM tracks\"\n",
    "# executando a query\n",
    "cursor.execute(query)\n",
    "# criando uma lista com os resultados da query\n",
    "result = cursor.fetchall()\n",
    "# mostrando os resultados\n",
    "for row in result:\n",
    "    print(row)\n",
    "# fechando a conexão\n",
    "conn.close()"
   ]
  },
  {
   "cell_type": "markdown",
   "metadata": {},
   "source": [
    "Para ver mais exemplos de queries com SQLite3:\n",
    "- https://www.w3schools.com/sql/default.asp\n",
    "\n",
    "Você deve agora mostrar todos os clientes (customers) que moram na França (France), pode usar o código acima como exemplo, mude apenas a query. "
   ]
  },
  {
   "cell_type": "code",
   "execution_count": null,
   "metadata": {},
   "outputs": [],
   "source": [
    "# importando a biblioteca sqlite\n",
    "import sqlite3\n",
    "# conectando ao banco de dados\n",
    "conn = sqlite3.connect('assets/chinook.db')\n",
    "# criando um cursor\n",
    "cursor = conn.cursor()\n",
    "# criando a query para ler a tabela customers com apenas clientes da France\n",
    "# TODO\n",
    "query = \n",
    "# executando a query\n",
    "cursor.execute(query)\n",
    "# criando uma lista com os resultados da query\n",
    "result = cursor.fetchall()\n",
    "# mostrando os resultados\n",
    "for row in result:\n",
    "    print(row)\n",
    "# fechando a conexão\n",
    "conn.close()"
   ]
  },
  {
   "cell_type": "markdown",
   "metadata": {},
   "source": [
    "# Pandas"
   ]
  },
  {
   "cell_type": "markdown",
   "metadata": {},
   "source": [
    "A biblioteca pandas é muito útil para trabalhar com planilhas. Uma extensão comum de planilha é .csv. Faremos agora uma operação na planilha"
   ]
  },
  {
   "cell_type": "code",
   "execution_count": null,
   "metadata": {},
   "outputs": [],
   "source": [
    "# importando a biblioteca pandas\n",
    "import pandas as pd\n",
    "# lendo a planilha coffee_sale.csv\n",
    "# a planilha contém dados de vendas de café\n",
    "df = pd.read_csv('assets/coffee_sale.csv')\n",
    "# queremos filtrar pegando apenas as linhas com café Americano\n",
    "df_americano = df[df['coffee_name'] == 'Americano']\n",
    "# agora vamos contar o número de vendas de café americano\n",
    "total_americano_sale = df_americano.shape[0]\n",
    "# mostrando o resultado\n",
    "print(total_americano_sale)"
   ]
  },
  {
   "cell_type": "markdown",
   "metadata": {},
   "source": [
    "O atributo shape de um objeto do tipo DataFrame retona uma lista com dois valores. O primeiro é o número de linhas e o segundo o número de colunas. "
   ]
  },
  {
   "cell_type": "markdown",
   "metadata": {},
   "source": [
    "Agora é sua vez, use a biblioteca pandas e o arquivo *assets/coffee_sale.csv* para calcular o valor médio do café expresso (Espresso). Você pode dar uma olhada na referência:\n",
    "\n",
    "- https://www.datacamp.com/cheat-sheet/pandas-cheat-sheet-for-data-science-in-python\n",
    "\n",
    "Sendo mais específico, dê uma olhada na seção Summary"
   ]
  },
  {
   "cell_type": "code",
   "execution_count": null,
   "metadata": {},
   "outputs": [],
   "source": [
    "# importando a biblioteca pandas\n",
    "import pandas as pd\n",
    "# lendo a planilha coffee_sale.csv\n",
    "df = pd.read_csv('assets/coffee_sale.csv')\n",
    "# queremos filtrar pegando apenas as linhas com café Espresso\n",
    "# TODO\n",
    "df_espresso = \n",
    "# agora vamos calcular a média do preço do café Espresso\n",
    "# TODO\n",
    "media_money_espresso = \n",
    "# mostrando o resultado\n",
    "print(media_money_espresso)"
   ]
  },
  {
   "cell_type": "markdown",
   "metadata": {},
   "source": [
    "# Matplotlib"
   ]
  },
  {
   "cell_type": "markdown",
   "metadata": {},
   "source": [
    "A biblioteca matplotlib é uma biblioteca de visualização de dados. Vamos utilizar para fazer um histograma dos valores (money) de vendas dos cafés."
   ]
  },
  {
   "cell_type": "code",
   "execution_count": null,
   "metadata": {},
   "outputs": [],
   "source": [
    "# importando a biblioteca matplotlib (para fazer o histograma)\n",
    "import matplotlib.pyplot as plt\n",
    "# importando a bibliotecas pandas (para ler o arquivo csv)\n",
    "import pandas as pd\n",
    "# lendo assets/coffee_sale.csv\n",
    "df = pd.read_csv('assets/coffee_sale.csv')\n",
    "# Escolha um gráfico em https://matplotlib.org/stable/gallery/index.html\n",
    "# Você também escolher em https://github.com/leandrocl2005/Curso-basico-de-Python-para-cientistas-de-dados/blob/master/aulas/cd_aula_04.ipynb\n",
    "# código para fazer o gráfico\n",
    "df['money'].plot(kind='hist')\n",
    "plt.show()"
   ]
  },
  {
   "cell_type": "markdown",
   "metadata": {},
   "source": [
    "Chegou a sua vez, faça um gráfico de barras horizontais mostrando o número de vendas por tipo de café.\n",
    "\n",
    "Use como modelo o código em https://github.com/leandrocl2005/Curso-basico-de-Python-para-cientistas-de-dados/blob/master/aulas/cd_aula_04.ipynb"
   ]
  },
  {
   "cell_type": "code",
   "execution_count": null,
   "metadata": {},
   "outputs": [],
   "source": [
    "# importando a biblioteca matplotlib (para fazer o histograma)\n",
    "import matplotlib.pyplot as plt\n",
    "# importando a bibliotecas pandas (para ler o arquivo csv)\n",
    "import pandas as pd\n",
    "# lendo assets/coffee_sale.csv\n",
    "df = pd.read_csv('assets/coffee_sale.csv')\n",
    "# código para fazer o gráfico\n",
    "# TODO"
   ]
  },
  {
   "cell_type": "markdown",
   "metadata": {},
   "source": [
    "# Seaborn"
   ]
  },
  {
   "cell_type": "markdown",
   "metadata": {},
   "source": [
    "Seaborn é outra biblioteca para fazer gráficos. Como você já pegou o jeito, vamos logo para prática. Faça um histograma dos preços dos cafés usando Seaborn.\n",
    "\n",
    "Referência: https://github.com/leandrocl2005/Curso-basico-de-Python-para-cientistas-de-dados/blob/master/aulas/cd_aula_04.ipynb\n",
    "\n",
    "Procure por: Histogramas no Seaborn\n",
    "Fonte: https://seaborn.pydata.org/tutorial/distributions.html"
   ]
  },
  {
   "cell_type": "code",
   "execution_count": null,
   "metadata": {},
   "outputs": [],
   "source": [
    "# importando a biblioteca matplotlib \n",
    "import matplotlib.pyplot as plt # seaborn depende do matplotlib\n",
    "# importando a bibliotecas pandas (para ler o arquivo csv)\n",
    "import pandas as pd\n",
    "# importando a biblioteca seaborn\n",
    "import seaborn as sns\n",
    "# lendo assets/coffee_sale.csv\n",
    "df = pd.read_csv('assets/coffee_sale.csv')\n",
    "# código para fazer o gráfico\n",
    "# TODO"
   ]
  },
  {
   "cell_type": "markdown",
   "metadata": {},
   "source": [
    "# Statsmodels"
   ]
  },
  {
   "cell_type": "markdown",
   "metadata": {},
   "source": [
    "Biblioteca para modelagem estatística, incluindo regressões lineares, séries temporais e testes estatísticos. Vamos criar um objeto do tipo DataFrame com pandas representando algumas campanhas de publicidade. Faremos um ajuste de regressão linear nos dados."
   ]
  },
  {
   "cell_type": "code",
   "execution_count": null,
   "metadata": {},
   "outputs": [],
   "source": [
    "import statsmodels.api as sm\n",
    "import pandas as pd\n",
    "\n",
    "# Dados de exemplo\n",
    "df = pd.DataFrame({\n",
    "    'Publicidade': [100, 200, 300, 400],\n",
    "    'Preço': [10, 16, 18, 27],\n",
    "    'Vendas': [980, 1515, 2100, 2800]\n",
    "})\n",
    "\n",
    "X = df[['Publicidade']]\n",
    "y = df['Vendas']\n",
    "\n",
    "X = sm.add_constant(X)  # Adiciona intercepto\n",
    "modelo = sm.OLS(y, X).fit()\n",
    "print(modelo.summary())"
   ]
  },
  {
   "cell_type": "markdown",
   "metadata": {},
   "source": [
    "O sumário com os resultado apresentam muitas informações, mas por agora vamos focar numa apenas. O R-squared (coeficiente) de determinação é uma métrica para saber se o ajuste ficou bom. Quanto mais perto de 1 melhor. Ajustando uma reta nos valores de publicidade por vendas obtemos 0.996."
   ]
  },
  {
   "cell_type": "code",
   "execution_count": null,
   "metadata": {},
   "outputs": [],
   "source": [
    "# TODO\n",
    "# Qual o valor de R² ao ajustar o modelo OLS para publicidade X preço?"
   ]
  },
  {
   "cell_type": "markdown",
   "metadata": {},
   "source": [
    "# Requests"
   ]
  },
  {
   "cell_type": "markdown",
   "metadata": {},
   "source": [
    "Biblioteca para realização de requisições HTTP, facilitando o consumo de APIs e integração com serviços web. Vamos utilizar a biblioteca requests para listar as tarefas de uma API, bem como para verificar quantas foram feitas e quantas não foram feitas."
   ]
  },
  {
   "cell_type": "code",
   "execution_count": null,
   "metadata": {},
   "outputs": [],
   "source": [
    "# importando a biblioteca requests\n",
    "import requests\n",
    "# definindo a url\n",
    "url = \"https://jsonplaceholder.typicode.com/todos\"\n",
    "# fazendo uma requisição HTTP do tipo GET para a url\n",
    "response = requests.get(url)\n",
    "# colocando a lista de resultados em uma variável\n",
    "data = response.json()\n",
    "# printando o primeiro resultado da lista\n",
    "print(\"1º resultado:\", data[0])\n",
    "# temos uma lista de dicionários\n",
    "# estamos interessados na chave 'completed'\n",
    "completed = [todo for todo in data if todo['completed'] == True]\n",
    "uncompleted = [todo for todo in data if todo['completed'] == False]\n",
    "# mostrando o número de tarefas completas e incompletas\n",
    "print(\"Tarefas completas:\", len(completed))\n",
    "print(\"Tarefas incompletas:\", len(uncompleted))"
   ]
  },
  {
   "cell_type": "markdown",
   "metadata": {},
   "source": [
    "Chegou a sua vez, vamos utilizar a API Fake jsonplaceholder ainda. Queremos saber quantos posts o usuário de Id 5 publicou.\n",
    "\n",
    "Para isso faça uma chamada HTTP do tipo GET para a url https://jsonplaceholder.typicode.com/posts"
   ]
  },
  {
   "cell_type": "code",
   "execution_count": null,
   "metadata": {},
   "outputs": [],
   "source": [
    "# TODO"
   ]
  },
  {
   "cell_type": "markdown",
   "metadata": {},
   "source": [
    "# Outras bibliotecas"
   ]
  },
  {
   "cell_type": "markdown",
   "metadata": {},
   "source": [
    "Você já viu que são várias bibliotecas úteis para nosso dia a dia como profissional de analytics. Faça uma pesquisa e lista pelo mais uma biblioteca que não foi citada acima. Explique brevemente para que serve e então faça o código resolvendo um caso de uso."
   ]
  },
  {
   "cell_type": "code",
   "execution_count": null,
   "metadata": {},
   "outputs": [],
   "source": [
    "# TODO"
   ]
  }
 ],
 "metadata": {
  "kernelspec": {
   "display_name": "env",
   "language": "python",
   "name": "python3"
  },
  "language_info": {
   "codemirror_mode": {
    "name": "ipython",
    "version": 3
   },
   "file_extension": ".py",
   "mimetype": "text/x-python",
   "name": "python",
   "nbconvert_exporter": "python",
   "pygments_lexer": "ipython3",
   "version": "3.9.12"
  }
 },
 "nbformat": 4,
 "nbformat_minor": 4
}
