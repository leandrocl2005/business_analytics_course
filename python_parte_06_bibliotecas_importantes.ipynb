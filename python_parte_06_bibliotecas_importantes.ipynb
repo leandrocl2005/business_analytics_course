{
 "cells": [
  {
   "cell_type": "markdown",
   "metadata": {},
   "source": [
    "<h1>Bibliotecas</h1>"
   ]
  },
  {
   "cell_type": "markdown",
   "metadata": {},
   "source": [
    "No notebook anterior vimos algumas bibliotecas nativas como random e math, e outras bibliotecas de terceiros como scipy, numpy e matplotlib."
   ]
  },
  {
   "cell_type": "markdown",
   "metadata": {},
   "source": [
    "Neste notebook veremos outras bibliotecas úteis e faremos algumas operações úteis para análise de dados."
   ]
  },
  {
   "cell_type": "code",
   "execution_count": null,
   "metadata": {},
   "outputs": [],
   "source": [
    "# Instalando a biblioteca pandas\n",
    "!pip install pandas\n",
    "# Instalando a biblioteca matplotlib\n",
    "!pip install matplotlib\n",
    "# Instalando a biblioteca seaborn\n",
    "!pip install seaborn\n",
    "# Instalando a biblioteca numpy\n",
    "!pip install numpy\n",
    "# Instalando a biblioteca statsmodels\n",
    "!pip install statsmodels\n",
    "# Instalando a biblioteca scikit-learn\n",
    "!pip install scikit-learn"
   ]
  },
  {
   "cell_type": "markdown",
   "metadata": {},
   "source": [
    "Você pode estudar (recomendado) as biblitecas instaladas em seus respectivos sites:\n",
    "- Pandas: https://pandas.pydata.org/\n",
    "- Matplotlib: https://matplotlib.org/\n",
    "- Seaborn: https://seaborn.pydata.org/\n",
    "- Statsmodel: \n",
    "- Scipy: \n",
    "\n",
    "\n"
   ]
  },
  {
   "cell_type": "code",
   "execution_count": null,
   "metadata": {},
   "outputs": [],
   "source": [
    "# importando a biblioteca como mt\n",
    "import math as mt\n",
    "\n",
    "# calculando o fatorial de 7\n",
    "mt.factorial(7)"
   ]
  },
  {
   "cell_type": "markdown",
   "metadata": {},
   "source": [
    "Você também pode importar a função diretamente:"
   ]
  },
  {
   "cell_type": "code",
   "execution_count": null,
   "metadata": {},
   "outputs": [],
   "source": [
    "# importando a função factorial da biblioteca math\n",
    "from math import factorial\n",
    "\n",
    "# calculando o fatorial de 7\n",
    "factorial(7)"
   ]
  },
  {
   "cell_type": "markdown",
   "metadata": {},
   "source": [
    "Ou dar um apelido pra sua função:"
   ]
  },
  {
   "cell_type": "code",
   "execution_count": null,
   "metadata": {},
   "outputs": [],
   "source": [
    "# importando a função factorial da biblioteca math como ft\n",
    "from math import factorial as ft\n",
    "\n",
    "# calculando o fatorial de 7\n",
    "ft(7)"
   ]
  },
  {
   "cell_type": "markdown",
   "metadata": {},
   "source": [
    "Existem outras bibliotecas que não são padrões do Python. Estas devem ser instaladas. Por exemplo a biblioteca de estatística scipy:"
   ]
  },
  {
   "cell_type": "code",
   "execution_count": null,
   "metadata": {},
   "outputs": [],
   "source": [
    "# instalando a biblioteca scipy\n",
    "!pip install scipy"
   ]
  },
  {
   "cell_type": "markdown",
   "metadata": {},
   "source": [
    "E então calcular a integral de uma função através do método da quadratura:"
   ]
  },
  {
   "cell_type": "code",
   "execution_count": null,
   "metadata": {},
   "outputs": [],
   "source": [
    "# importando a função quad que calcula a integral através da quadratura\n",
    "from scipy.integrate import quad\n",
    "\n",
    "# definindo uma função para o calculo da integral\n",
    "def square(x):\n",
    "    return x ** 2 # operação de potencialização (x elevado a 2)\n",
    "\n",
    "# calculando a integral de 0 a 1 da função square\n",
    "I = quad(square, 0, 1)\n",
    "\n",
    "# imprimindo o resultado\n",
    "print(I)"
   ]
  },
  {
   "cell_type": "markdown",
   "metadata": {},
   "source": [
    "Ps.: O primeiro valor impresso é o resultado e o segundo é o erro."
   ]
  },
  {
   "cell_type": "markdown",
   "metadata": {},
   "source": [
    "<h3>Exercício</h3>"
   ]
  },
  {
   "cell_type": "code",
   "execution_count": null,
   "metadata": {},
   "outputs": [],
   "source": [
    "# importe a biblioteca random\n",
    "# TODO"
   ]
  },
  {
   "cell_type": "code",
   "execution_count": null,
   "metadata": {},
   "outputs": [],
   "source": [
    "# quais métodos tem a biblioteca random?\n",
    "# TODO"
   ]
  },
  {
   "cell_type": "code",
   "execution_count": null,
   "metadata": {},
   "outputs": [],
   "source": [
    "# imprima a ajuda sobre o método random.choice\n",
    "# TODO"
   ]
  },
  {
   "cell_type": "code",
   "execution_count": null,
   "metadata": {},
   "outputs": [],
   "source": [
    "# crie uma lista de nome dado com números de 1 a 6 (inclusive estes)\n",
    "# TODO"
   ]
  },
  {
   "cell_type": "code",
   "execution_count": null,
   "metadata": {},
   "outputs": [],
   "source": [
    "# aplique a função random.choice na lista dado\n",
    "# TODO"
   ]
  },
  {
   "cell_type": "markdown",
   "metadata": {},
   "source": [
    "Parabéns, você criou um dado de 6 lados em Python!"
   ]
  },
  {
   "cell_type": "code",
   "execution_count": null,
   "metadata": {},
   "outputs": [],
   "source": [
    "# Criando uma lista vazia chamada resultados\n",
    "resultados = []"
   ]
  },
  {
   "cell_type": "code",
   "execution_count": null,
   "metadata": {},
   "outputs": [],
   "source": [
    "# crie uma variável inteira n sendo um número aletório de 1 a 6\n",
    "# Dica: use a biblioteca random e a função choice\n",
    "# TODO"
   ]
  },
  {
   "cell_type": "code",
   "execution_count": null,
   "metadata": {},
   "outputs": [],
   "source": [
    "# adicione n a lista resultados\n",
    "# Dica: use o método append de listas\n",
    "# TODO"
   ]
  },
  {
   "cell_type": "code",
   "execution_count": null,
   "metadata": {},
   "outputs": [],
   "source": [
    "# Repita os dois passos acima mil vezes\n",
    "# TODO"
   ]
  },
  {
   "cell_type": "code",
   "execution_count": null,
   "metadata": {},
   "outputs": [],
   "source": [
    "# import a biblioteca numpy com apelido np\n",
    "# TODO"
   ]
  },
  {
   "cell_type": "code",
   "execution_count": null,
   "metadata": {},
   "outputs": [],
   "source": [
    "# usa a função mean da biblioteca numpy para calcular a média dos resultados\n",
    "# TODO"
   ]
  },
  {
   "cell_type": "code",
   "execution_count": null,
   "metadata": {},
   "outputs": [],
   "source": [
    "# use a função std da biblioteca numpy para calcular o desvio padrão dos resultados\n",
    "# TODO"
   ]
  },
  {
   "cell_type": "code",
   "execution_count": null,
   "metadata": {},
   "outputs": [],
   "source": [
    "# import a biblioteca matplotlib.pyplot com apelido plt\n",
    "# TODO"
   ]
  },
  {
   "cell_type": "code",
   "execution_count": null,
   "metadata": {},
   "outputs": [],
   "source": [
    "# use a função hist da biblioteca plt para criar um histograma de resultados\n",
    "# TODO"
   ]
  },
  {
   "cell_type": "code",
   "execution_count": null,
   "metadata": {},
   "outputs": [],
   "source": [
    "# use a função show da biblioteca plt para mostrar o histograma\n",
    "# TODO"
   ]
  },
  {
   "cell_type": "code",
   "execution_count": null,
   "metadata": {},
   "outputs": [],
   "source": []
  }
 ],
 "metadata": {
  "kernelspec": {
   "display_name": "env",
   "language": "python",
   "name": "python3"
  },
  "language_info": {
   "codemirror_mode": {
    "name": "ipython",
    "version": 3
   },
   "file_extension": ".py",
   "mimetype": "text/x-python",
   "name": "python",
   "nbconvert_exporter": "python",
   "pygments_lexer": "ipython3",
   "version": "3.9.12"
  }
 },
 "nbformat": 4,
 "nbformat_minor": 2
}
