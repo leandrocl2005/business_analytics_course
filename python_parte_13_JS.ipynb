{
 "cells": [
  {
   "cell_type": "markdown",
   "id": "83b1b531-2e05-43d7-a0ad-bf3d51a467df",
   "metadata": {},
   "source": [
    "# JAVASCRIPT\n",
    "\n",
    "No capítulo passado aprendemos como funciona HTML e CSS. Além disso, vimos um pouquinho de Javascript mas sem prática. Vamos agora aprofundar um pouco mais em javascript."
   ]
  },
  {
   "cell_type": "markdown",
   "id": "223fe311-5c6c-4853-b478-7b1cd1c931d4",
   "metadata": {},
   "source": [
    "Assita uma aula completa sobre Javascript aqui:   <a href=\"https://www.youtube.com/watch?v=McKNP3g6VBA\">Curso Javascript Completo</a>"
   ]
  },
  {
   "cell_type": "markdown",
   "id": "4fa6e97c",
   "metadata": {},
   "source": [
    "O primeiro exercício a seguir reforçará os conceitos do vídeo com um projeto muito parecido com o que é feito no vídeo. O segundo também. Ambos estes projetos serão \"templates\" para nossos futuros aplicativos web, não deixe de fazê-los. Os exercícios 3 e 4 trabalham um pouco o uso de API's que também será um conceito que vamos trabalhar nas próximas aulas. "
   ]
  },
  {
   "cell_type": "markdown",
   "id": "1351f8d2-a4b2-4a15-a0ae-0b748be72dbe",
   "metadata": {},
   "source": [
    "### Exercícios HTML:"
   ]
  },
  {
   "cell_type": "markdown",
   "id": "b6273745-2980-4e1a-bbbe-55099c04e1dc",
   "metadata": {},
   "source": [
    "1) Use os conceitos aprendidos sobre Javascript para reproduzir o projeto desse vídeo:\n",
    "\n",
    "- https://www.youtube.com/watch?v=O0YQBdpOv5A&list=PLNCevxogE3fgy0pAzVccadWKaQp9iHspz&index=64"
   ]
  },
  {
   "cell_type": "markdown",
   "id": "11f8861c-2b78-4a8a-b422-4b13a72dbe5d",
   "metadata": {},
   "source": [
    "2) Use os conceitos aprendidos sobre Javascript para reproduzir o projeto desse vídeo:\n",
    "\n",
    "- https://www.youtube.com/watch?v=mizkwuCqFsc&list=PLNCevxogE3fgy0pAzVccadWKaQp9iHspz&index=29"
   ]
  },
  {
   "cell_type": "markdown",
   "id": "4c3948bd-d779-4ab5-854e-429402fca29a",
   "metadata": {},
   "source": [
    "3) Use os conceitos aprendidos sobre Javascript para reproduzir o projeto desse vídeo:\n",
    "\n",
    "- https://www.youtube.com/watch?v=bD8mmPxQ1F8&list=PLNCevxogE3fgy0pAzVccadWKaQp9iHspz&index=25"
   ]
  },
  {
   "cell_type": "markdown",
   "id": "7dbf1ea8-d69f-4399-8934-f8c1b5b1a000",
   "metadata": {},
   "source": [
    "4) Use os conceitos aprendidos sobre Javascript para reproduzir o projeto desse vídeo:\n",
    "\n",
    "- https://www.youtube.com/watch?v=_JUSpgchD1I&list=PLNCevxogE3fgy0pAzVccadWKaQp9iHspz&index=20"
   ]
  },
  {
   "cell_type": "markdown",
   "id": "cff0a7c9",
   "metadata": {},
   "source": [
    "# Entregáveis"
   ]
  },
  {
   "cell_type": "markdown",
   "id": "108d5203-4755-4066-b0b4-98ae27063ab9",
   "metadata": {},
   "source": [
    "- Página no github pages da sua lista de tarefas;\n",
    "- Página no github pages do seu Flash card;\n",
    "- Página no github pages do seu gerador de frases;\n",
    "- Página no github pages do seu gerador de cartas pokemon."
   ]
  },
  {
   "cell_type": "code",
   "execution_count": null,
   "id": "3dec208a-af2f-4717-b79a-4455b2fecc29",
   "metadata": {},
   "outputs": [],
   "source": []
  }
 ],
 "metadata": {
  "kernelspec": {
   "display_name": "Python 3 (ipykernel)",
   "language": "python",
   "name": "python3"
  },
  "language_info": {
   "codemirror_mode": {
    "name": "ipython",
    "version": 3
   },
   "file_extension": ".py",
   "mimetype": "text/x-python",
   "name": "python",
   "nbconvert_exporter": "python",
   "pygments_lexer": "ipython3",
   "version": "3.9.12"
  }
 },
 "nbformat": 4,
 "nbformat_minor": 5
}
