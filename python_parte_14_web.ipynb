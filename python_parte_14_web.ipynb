{
 "cells": [
  {
   "cell_type": "markdown",
   "id": "83b1b531-2e05-43d7-a0ad-bf3d51a467df",
   "metadata": {},
   "source": [
    "# Python para WEB\n",
    "\n",
    "Nas aulas passadas vimos HTML, CSS e JS. Isso nos permitiu criar páginas web para diversos casos de uso tais como e-commerce, moocs, dashboards e utilidades como aplicativos de memorização espaçada e de lista de tarefas.\n",
    "\n",
    "Vimos também como integrar com aplicações via API de terceiros nos projetos de Frases aletórias e Memorização espaçada.\n",
    "\n",
    "Por fim vimos uma maneira de armazenar dados da aplicação no Local Storage do Navegador. Isso nos permitiu manter em memória nossas listas de tarefas, mesmo quando fechamos o navegador ou atualizamos a página.\n",
    "\n",
    "No entanto, ao acessar outro navegador, nossos dados não estarão mais lá. Além disso, o Local Storage é um lugar de acesso facilitado e, portanto, nossos dados ficam inseguros.\n",
    "\n",
    "Aprenderemos agora como armazenar dados de maneira segura nos bancos de dados. Utilizaremos Python para construir uma aplicação web que busca estes dados no banco de dados e constroi a página já completa, enviando esta para o usuário.\n",
    "\n",
    "Para isso usaremos o projeto de memorização espaçada (Flash Cards)."
   ]
  },
  {
   "cell_type": "markdown",
   "id": "223fe311-5c6c-4853-b478-7b1cd1c931d4",
   "metadata": {},
   "source": [
    "Assita uma aula completa sobre Python com Django aqui:   <a href=\"https://www.youtube.com/watch?v=W69vwLj4UEo\">Django Flash Cards - Parte 1</a>"
   ]
  },
  {
   "cell_type": "markdown",
   "id": "1351f8d2-a4b2-4a15-a0ae-0b748be72dbe",
   "metadata": {},
   "source": [
    "### Exercício:"
   ]
  },
  {
   "cell_type": "markdown",
   "id": "b6273745-2980-4e1a-bbbe-55099c04e1dc",
   "metadata": {},
   "source": [
    "1) Use os conceitos aprendidos sobre Django e faça um aplicativo de lista de tarefas que persista os dados num banco de dados. Use o template da aula passada."
   ]
  },
  {
   "cell_type": "markdown",
   "id": "2d07aef0",
   "metadata": {},
   "source": [
    "## Entregáveis\n",
    "\n",
    "- Você deve entrar o repositório do projeto de lista de tarefas com Django."
   ]
  },
  {
   "cell_type": "markdown",
   "id": "c9e1df56",
   "metadata": {},
   "source": []
  }
 ],
 "metadata": {
  "kernelspec": {
   "display_name": "Python 3 (ipykernel)",
   "language": "python",
   "name": "python3"
  },
  "language_info": {
   "codemirror_mode": {
    "name": "ipython",
    "version": 3
   },
   "file_extension": ".py",
   "mimetype": "text/x-python",
   "name": "python",
   "nbconvert_exporter": "python",
   "pygments_lexer": "ipython3",
   "version": "3.9.12"
  }
 },
 "nbformat": 4,
 "nbformat_minor": 5
}
